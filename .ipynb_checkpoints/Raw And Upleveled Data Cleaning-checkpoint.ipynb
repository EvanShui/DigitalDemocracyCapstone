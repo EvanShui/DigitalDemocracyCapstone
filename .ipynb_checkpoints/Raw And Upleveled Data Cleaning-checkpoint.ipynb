{
 "cells": [
  {
   "cell_type": "code",
   "execution_count": 1,
   "metadata": {
    "collapsed": true
   },
   "outputs": [],
   "source": [
    "import datetime\n",
    "import math\n",
    "import numpy as np\n",
    "import pandas as pd\n",
    "import re\n",
    "\n",
    "from bs4 import BeautifulSoup"
   ]
  },
  {
   "cell_type": "code",
   "execution_count": 2,
   "metadata": {
    "collapsed": true
   },
   "outputs": [],
   "source": [
    "original_raw_filename = \"UNDEFINED\"\n",
    "original_upleveled_filename = \"UNDEFINED\"\n",
    "original_upleveled_sorted_filename = \"UNDEFINED\"\n",
    "cleaned_raw_filename = \"UNDEFINED\"\n",
    "cleaned_raw_bill_id_replaced_filename=\"UNDEFINED\"\n",
    "cleaned_upleveled_filename = \"UNDEFINED\"\n",
    "bill_start_end_times_all_filename = \"UNDEFINED\"\n",
    "bill_start_end_times_longest_filename = \"UNDEFINED\"\n",
    "\n",
    "with open(\"CONSTANTS\") as constants_file:\n",
    "    for line in constants_file:\n",
    "        line_splits = line.rstrip(\"\\n\").split(\"=\")\n",
    "        \n",
    "        if (line_splits[0] == \"ORIGINAL_RAW\"):\n",
    "            original_raw_filename = line_splits[1]\n",
    "        elif (line_splits[0] == \"ORIGINAL_UPLEVELED\"):\n",
    "            original_upleveled_filename = line_splits[1]\n",
    "        elif (line_splits[0] == \"ORIGINAL_UPLEVELED_SORTED\"):\n",
    "            original_upleveled_sorted_filename = line_splits[1]\n",
    "        elif (line_splits[0] == \"CLEANED_RAW\"):\n",
    "            cleaned_raw_filename = line_splits[1]\n",
    "        elif (line_splits[0] == \"CLEANED_RAW_BILL_ID_REPLACED\"):\n",
    "            cleaned_raw_bill_id_replaced_filename = line_splits[1]\n",
    "        elif (line_splits[0] == \"CLEANED_UPLEVELED\"):\n",
    "            cleaned_upleveled_filename = line_splits[1]\n",
    "        elif (line_splits[0] == \"BILL_START_END_TIMES_ALL\"):\n",
    "            bill_start_end_times_all_filename = line_splits[1]\n",
    "        elif (line_splits[0] == \"BILL_START_END_TIMES_LONGEST\"):\n",
    "            bill_start_end_times_longest_filename = line_splits[1]"
   ]
  },
  {
   "cell_type": "markdown",
   "metadata": {},
   "source": [
    "# Raw Processing"
   ]
  },
  {
   "cell_type": "code",
   "execution_count": 3,
   "metadata": {
    "collapsed": false
   },
   "outputs": [
    {
     "data": {
      "text/html": [
       "<div>\n",
       "<table border=\"1\" class=\"dataframe\">\n",
       "  <thead>\n",
       "    <tr style=\"text-align: right;\">\n",
       "      <th></th>\n",
       "      <th>video_id</th>\n",
       "      <th>raw_transcript</th>\n",
       "    </tr>\n",
       "  </thead>\n",
       "  <tbody>\n",
       "    <tr>\n",
       "      <th>0</th>\n",
       "      <td>4221</td>\n",
       "      <td>?&lt;?xml version=\"1.0\" encoding=\"utf-8\"?&gt;&lt;tt xml...</td>\n",
       "    </tr>\n",
       "    <tr>\n",
       "      <th>1</th>\n",
       "      <td>4229</td>\n",
       "      <td>?&lt;?xml version=\"1.0\" encoding=\"utf-8\"?&gt;&lt;tt xml...</td>\n",
       "    </tr>\n",
       "    <tr>\n",
       "      <th>2</th>\n",
       "      <td>4228</td>\n",
       "      <td>?&lt;?xml version=\"1.0\" encoding=\"utf-8\"?&gt;&lt;tt xml...</td>\n",
       "    </tr>\n",
       "    <tr>\n",
       "      <th>3</th>\n",
       "      <td>4226</td>\n",
       "      <td>?&lt;?xml version=\"1.0\" encoding=\"utf-8\"?&gt;&lt;tt xml...</td>\n",
       "    </tr>\n",
       "    <tr>\n",
       "      <th>4</th>\n",
       "      <td>4222</td>\n",
       "      <td>?&lt;?xml version=\"1.0\" encoding=\"utf-8\"?&gt;&lt;tt xml...</td>\n",
       "    </tr>\n",
       "  </tbody>\n",
       "</table>\n",
       "</div>"
      ],
      "text/plain": [
       "   video_id                                     raw_transcript\n",
       "0      4221  ?<?xml version=\"1.0\" encoding=\"utf-8\"?><tt xml...\n",
       "1      4229  ?<?xml version=\"1.0\" encoding=\"utf-8\"?><tt xml...\n",
       "2      4228  ?<?xml version=\"1.0\" encoding=\"utf-8\"?><tt xml...\n",
       "3      4226  ?<?xml version=\"1.0\" encoding=\"utf-8\"?><tt xml...\n",
       "4      4222  ?<?xml version=\"1.0\" encoding=\"utf-8\"?><tt xml..."
      ]
     },
     "execution_count": 3,
     "metadata": {},
     "output_type": "execute_result"
    }
   ],
   "source": [
    "raw = pd.read_table(original_raw_filename, sep='~~~~~', engine='python')\n",
    "raw.head()"
   ]
  },
  {
   "cell_type": "code",
   "execution_count": 4,
   "metadata": {
    "collapsed": true
   },
   "outputs": [],
   "source": [
    "# parse a string 00:00:00.470 to hours, minutes, seconds\n",
    "# return time in seconds\n",
    "def parse_time(time):\n",
    "    time = time.split(\":\")\n",
    "    hours = int(time[0])\n",
    "    minutes = int(time[1])\n",
    "    seconds = int(float(time[2])) \n",
    "    \n",
    "    return (hours*360)+(minutes*60)+seconds"
   ]
  },
  {
   "cell_type": "code",
   "execution_count": 5,
   "metadata": {
    "collapsed": true
   },
   "outputs": [],
   "source": [
    "def parse_raw_data(raw):\n",
    "    r = raw['raw_transcript']\n",
    "    ids = raw['video_id']\n",
    "    res = {'start':[], 'end':[], 'text':[], 'video_id': []}\n",
    "    for transcript, vid in zip(r, ids):\n",
    "        soup = BeautifulSoup(transcript, \"lxml\")\n",
    "        letters = soup.find_all(\"p\")\n",
    "\n",
    "        for p in letters[1:]:\n",
    "            res['start'].append(parse_time(p.get('begin')))\n",
    "            res['end'].append(parse_time(p.get('end')))\n",
    "            res['text'].append(p.contents[0])\n",
    "            res['video_id'].append(vid)\n",
    "\n",
    "    tidy = pd.DataFrame(res, columns=['start', 'end', 'text', 'video_id'])\n",
    "    return (tidy)"
   ]
  },
  {
   "cell_type": "code",
   "execution_count": 6,
   "metadata": {
    "collapsed": false
   },
   "outputs": [
    {
     "data": {
      "text/html": [
       "<div>\n",
       "<table border=\"1\" class=\"dataframe\">\n",
       "  <thead>\n",
       "    <tr style=\"text-align: right;\">\n",
       "      <th></th>\n",
       "      <th>start</th>\n",
       "      <th>end</th>\n",
       "      <th>text</th>\n",
       "      <th>video_id</th>\n",
       "    </tr>\n",
       "  </thead>\n",
       "  <tbody>\n",
       "    <tr>\n",
       "      <th>0</th>\n",
       "      <td>0</td>\n",
       "      <td>2</td>\n",
       "      <td>We don't have a quorum yet I don't believe.</td>\n",
       "      <td>4221</td>\n",
       "    </tr>\n",
       "    <tr>\n",
       "      <th>1</th>\n",
       "      <td>6</td>\n",
       "      <td>8</td>\n",
       "      <td>We don't have a quorum yet.</td>\n",
       "      <td>4221</td>\n",
       "    </tr>\n",
       "    <tr>\n",
       "      <th>2</th>\n",
       "      <td>8</td>\n",
       "      <td>13</td>\n",
       "      <td>We'll ask the sergeants to please call the mem...</td>\n",
       "      <td>4221</td>\n",
       "    </tr>\n",
       "    <tr>\n",
       "      <th>3</th>\n",
       "      <td>13</td>\n",
       "      <td>21</td>\n",
       "      <td>that we can establish a quorum for this partic...</td>\n",
       "      <td>4221</td>\n",
       "    </tr>\n",
       "    <tr>\n",
       "      <th>4</th>\n",
       "      <td>21</td>\n",
       "      <td>26</td>\n",
       "      <td>This is the Assembly's 2nd Extraordinary Sessi...</td>\n",
       "      <td>4221</td>\n",
       "    </tr>\n",
       "  </tbody>\n",
       "</table>\n",
       "</div>"
      ],
      "text/plain": [
       "   start  end                                               text  video_id\n",
       "0      0    2        We don't have a quorum yet I don't believe.      4221\n",
       "1      6    8                        We don't have a quorum yet.      4221\n",
       "2      8   13  We'll ask the sergeants to please call the mem...      4221\n",
       "3     13   21  that we can establish a quorum for this partic...      4221\n",
       "4     21   26  This is the Assembly's 2nd Extraordinary Sessi...      4221"
      ]
     },
     "execution_count": 6,
     "metadata": {},
     "output_type": "execute_result"
    }
   ],
   "source": [
    "cleaned_raw = parse_raw_data(raw)\n",
    "cleaned_raw.sort_values([\"video_id\", \"start\"]).to_csv(cleaned_raw_filename, sep=\"~\", index=False)\n",
    "cleaned_raw.head()"
   ]
  },
  {
   "cell_type": "markdown",
   "metadata": {},
   "source": [
    "## Bill Id Replacement"
   ]
  },
  {
   "cell_type": "code",
   "execution_count": 7,
   "metadata": {
    "collapsed": true
   },
   "outputs": [],
   "source": [
    "bill_id_pattern_1_1 = \"ab[0-9]+\"\n",
    "bill_id_pattern_1_2 = \"sb[0-9]+\"\n",
    "\n",
    "bill_id_pattern_2_1 = [\"assembly\", \"bill\"]\n",
    "bill_id_pattern_2_2 = [\"senate\", \"bill\"]\n",
    "\n",
    "bill_id_pattern_3_1 = [\"file\", \"item\", \"[0-9]+\"]\n",
    "\n",
    "bill_id_pattern_4_1 = [\"assembly\", \"bill\", \"number\", \"[0-9]+\"]\n",
    "bill_id_pattern_4_2 = [\"senate\", \"bill\", \"number\", \"[0-9]+\"]"
   ]
  },
  {
   "cell_type": "code",
   "execution_count": 8,
   "metadata": {
    "collapsed": false
   },
   "outputs": [],
   "source": [
    "def re_match_lists_helper(pattern_list, word_list):\n",
    "    for p in range(len(pattern_list)):\n",
    "        if not (re.match(pattern_list[p], word_list[p])):\n",
    "            return False\n",
    "    return True\n",
    "\n",
    "def re_match_lists(pattern_list_list, word_list):\n",
    "    for pl in range(len(pattern_list_list)):\n",
    "        if (re_match_lists_helper(pattern_list_list[pl], word_list)):\n",
    "            return True\n",
    "    return False\n",
    "\n",
    "def matches_any_4_word_pattern(word1, word2, word3, word4):\n",
    "    pattern_list_list = [bill_id_pattern_4_1, bill_id_pattern_4_2]\n",
    "    word_list = [word1, word2, word3, word4]\n",
    "    \n",
    "    return re_match_lists(pattern_list_list, word_list)\n",
    "\n",
    "def matches_any_3_word_pattern(word1, word2, word3):\n",
    "    pattern_list_list = [bill_id_pattern_3_1]\n",
    "    word_list = [word1, word2, word3]\n",
    "    \n",
    "    return re_match_lists(pattern_list_list, word_list)\n",
    "    \n",
    "def matches_any_2_word_pattern(word1, word2):\n",
    "    pattern_list_list = [bill_id_pattern_2_1, bill_id_pattern_2_2]\n",
    "    word_list = [word1, word2]\n",
    "    \n",
    "    return re_match_lists(pattern_list_list, word_list)\n",
    "\n",
    "def matches_any_1_word_pattern(word):\n",
    "    return (re.match(bill_id_pattern_1_1, word) or\n",
    "            re.match(bill_id_pattern_1_2, word))"
   ]
  },
  {
   "cell_type": "code",
   "execution_count": 9,
   "metadata": {
    "collapsed": true
   },
   "outputs": [],
   "source": [
    "def shift_words_over(words, word_ix, shift_amount):\n",
    "    words_length = len(words)\n",
    "    \n",
    "    for i in range(word_ix, words_length - shift_amount):\n",
    "        words[i] = words[i+shift_amount]\n",
    "    while(len(words) > (words_length-shift_amount)):\n",
    "        del words[-1]\n",
    "        \n",
    "    return words"
   ]
  },
  {
   "cell_type": "code",
   "execution_count": 10,
   "metadata": {
    "collapsed": false
   },
   "outputs": [
    {
     "ename": "SyntaxError",
     "evalue": "invalid syntax (<ipython-input-10-c3f6e38132c5>, line 6)",
     "output_type": "error",
     "traceback": [
      "\u001b[0;36m  File \u001b[0;32m\"<ipython-input-10-c3f6e38132c5>\"\u001b[0;36m, line \u001b[0;32m6\u001b[0m\n\u001b[0;31m    if (matches_any_1_word_pattern(words[word_ix]):\u001b[0m\n\u001b[0m                                                  ^\u001b[0m\n\u001b[0;31mSyntaxError\u001b[0m\u001b[0;31m:\u001b[0m invalid syntax\n"
     ]
    }
   ],
   "source": [
    "def replace_bill_ids_in_utterance(utterance, t1, t2, t3, t4):\n",
    "    words = utterance.lower().split()\n",
    "    utterance_length = len(words)\n",
    "    word_ix = 0\n",
    "    while(word_ix < utterance_length):\n",
    "        if (matches_any_1_word_pattern(words[word_ix])):\n",
    "            words[word_ix] = \"<BILL_ID>\"\n",
    "            t1 += 1\n",
    "        elif (word_ix < (utterance_length-1) and\n",
    "              matches_any_2_word_pattern(words[word_ix],\n",
    "                                         words[word_ix+1])):\n",
    "            words[word_ix] = \"<BILL_ID>\"\n",
    "            words = shift_words_over(words, word_ix+1, 1)\n",
    "            utterance_length -= 1\n",
    "            t2 += 1\n",
    "        elif (word_ix < (utterance_length-2) and\n",
    "              matches_any_3_word_pattern(words[word_ix],\n",
    "                                         words[word_ix+1],\n",
    "                                         words[word_ix+2])):\n",
    "            words[word_ix] = \"<BILL_ID>\"\n",
    "            words = shift_words_over(words, word_ix+1, 2)\n",
    "            utterance_length -= 2\n",
    "            t3 += 1\n",
    "        elif (word_ix < (utterance_length-3) and\n",
    "              matches_any_4_word_pattern(words[word_ix],\n",
    "                                         words[word_ix+1],\n",
    "                                         words[word_ix+2],\n",
    "                                         words[word_ix+3])):\n",
    "            words[word_ix] = \"<BILL_ID>\"\n",
    "            words = shift_words_over(words, word_ix+1, 3)\n",
    "            utterance_length -= 3\n",
    "            t4 += 1\n",
    "    \n",
    "        word_ix += 1\n",
    "            \n",
    "    return (\" \".join(words), t1, t2, t3, t4)"
   ]
  },
  {
   "cell_type": "code",
   "execution_count": null,
   "metadata": {
    "collapsed": true
   },
   "outputs": [],
   "source": [
    "def replace_bill_ids(old, new):\n",
    "    t1 = 0\n",
    "    t2 = 0\n",
    "    t3 = 0\n",
    "    t4 = 0\n",
    "    \n",
    "    for line in old:\n",
    "        line_splits = line.lower().rstrip(\"\\n\").split(\"~\")\n",
    "        \n",
    "        (new_text, t1, t2, t3, t4) = replace_bill_ids_in_utterance(line_splits[2], t1, t2, t3, t4)\n",
    "        \n",
    "        new.write(line_splits[0] + \"~\" + line_splits[1] + \"~\" + new_text + \"~\" + line_splits[3] + \"\\n\")\n",
    "    "
   ]
  },
  {
   "cell_type": "code",
   "execution_count": null,
   "metadata": {
    "collapsed": false
   },
   "outputs": [],
   "source": [
    "with open(cleaned_raw_filename, 'r') as old:\n",
    "    with open(cleaned_raw_bill_id_replaced_filename, 'w') as new:\n",
    "        # consume/write headings\n",
    "        h = old.readline()\n",
    "        new.write(h)\n",
    "            \n",
    "        #actually iterate through the file\n",
    "        replace_bill_ids(old, new)"
   ]
  },
  {
   "cell_type": "markdown",
   "metadata": {},
   "source": [
    "# Upleveled Processing"
   ]
  },
  {
   "cell_type": "code",
   "execution_count": null,
   "metadata": {
    "collapsed": false
   },
   "outputs": [],
   "source": [
    "upleveled = pd.read_table(original_upleveled_filename, sep='~~~~~', engine='python')\n",
    "upleveled = upleveled.sort_values([\"video_id\", \"hearing_id\", \"speaker_start_time\"])\n",
    "upleveled.to_csv(original_upleveled_sorted_filename, sep=\"~\", index=False)"
   ]
  },
  {
   "cell_type": "code",
   "execution_count": null,
   "metadata": {
    "collapsed": true
   },
   "outputs": [],
   "source": [
    "def tag_bill_change_lines(original, cleaned):\n",
    "    line = original.readline()\n",
    "    current_bill_id = line.split(\"~\")[0]\n",
    "    i = 0\n",
    "    cleaned.write(line.rstrip(\"\\n\") + \"~0\\n\")\n",
    "    \n",
    "    for line in original:\n",
    "        line_splits = line.split(\"~\")\n",
    "        \n",
    "        if (line_splits[0] != current_bill_id):\n",
    "            current_bill_id = line_splits[0]\n",
    "            i += 1\n",
    "        \n",
    "        cleaned.write(line.rstrip(\"\\n\") + \"~\" + str(i) + \"\\n\")"
   ]
  },
  {
   "cell_type": "code",
   "execution_count": null,
   "metadata": {
    "collapsed": true
   },
   "outputs": [],
   "source": [
    "with open(original_upleveled_sorted_filename, 'r') as original:\n",
    "    with open(cleaned_upleveled_filename, 'w') as cleaned:\n",
    "        #consume/write headings\n",
    "        h = original.readline()\n",
    "        cleaned.write(h.rstrip(\"\\n\") + \"~bill_change_tag\\n\")\n",
    "            \n",
    "        tag_bill_change_lines(original, cleaned)"
   ]
  },
  {
   "cell_type": "code",
   "execution_count": null,
   "metadata": {
    "collapsed": true
   },
   "outputs": [],
   "source": [
    "tagged_upleveled = pd.read_table(cleaned_upleveled_filename, sep='~')"
   ]
  },
  {
   "cell_type": "code",
   "execution_count": null,
   "metadata": {
    "collapsed": true
   },
   "outputs": [],
   "source": [
    "bill_start_times = tagged_upleveled.groupby([\"bill_change_tag\"]).head(1)\n",
    "bill_end_times = tagged_upleveled.groupby([\"bill_change_tag\"]).tail(1)\n",
    "bill_start_end_times = pd.merge(bill_start_times[[\"bill_id\", \"hearing_id\", \"video_id\", \"speaker_start_time\", \"bill_change_tag\"]],\n",
    "                                bill_end_times[[\"speaker_end_time\", \"bill_change_tag\"]],\n",
    "                                on=[\"bill_change_tag\"]).drop([\"bill_change_tag\"], axis=1)\n",
    "bill_start_end_times[\"length\"] = bill_start_end_times[\"speaker_end_time\"] - bill_start_end_times[\"speaker_start_time\"]\n",
    "bill_start_end_times = bill_start_end_times.sort_values([\"video_id\", \"speaker_start_time\"])"
   ]
  },
  {
   "cell_type": "code",
   "execution_count": null,
   "metadata": {
    "collapsed": true
   },
   "outputs": [],
   "source": [
    "longest_bill_discussions = bill_start_end_times.sort_values([\"bill_id\", \"length\"]).groupby([\"bill_id\"]).tail(1)\n",
    "longest_bill_discussions = longest_bill_discussions.sort_values([\"video_id\", \"speaker_start_time\"])"
   ]
  },
  {
   "cell_type": "code",
   "execution_count": null,
   "metadata": {
    "collapsed": true
   },
   "outputs": [],
   "source": [
    "bill_start_end_times.to_csv(bill_start_end_times_all_filename, sep=\"~\", index=False)\n",
    "longest_bill_discussions.to_csv(bill_start_end_times_longest_filename, sep=\"~\", index=False)"
   ]
  }
 ],
 "metadata": {
  "kernelspec": {
   "display_name": "Python 3",
   "language": "python",
   "name": "python3"
  },
  "language_info": {
   "codemirror_mode": {
    "name": "ipython",
    "version": 3
   },
   "file_extension": ".py",
   "mimetype": "text/x-python",
   "name": "python",
   "nbconvert_exporter": "python",
   "pygments_lexer": "ipython3",
   "version": "3.5.2"
  }
 },
 "nbformat": 4,
 "nbformat_minor": 2
}
