{
 "cells": [
  {
   "cell_type": "code",
   "execution_count": 133,
   "metadata": {
    "collapsed": true
   },
   "outputs": [],
   "source": [
    "import numpy as np\n",
    "import pandas as pd\n",
    "\n",
    "from sklearn.feature_extraction.text import CountVectorizer\n",
    "from sklearn.model_selection import train_test_split\n",
    "from sklearn.naive_bayes import MultinomialNB\n",
    "from sklearn.metrics import accuracy_score\n",
    "\n",
    "import matplotlib.pyplot as plt"
   ]
  },
  {
   "cell_type": "code",
   "execution_count": 49,
   "metadata": {
    "collapsed": true
   },
   "outputs": [],
   "source": [
    "data_dir = \"/Users/brucerowan/Documents/capstone/DigitalDemocracyCapstone/\"\n",
    "target_col = 'transition_value'"
   ]
  },
  {
   "cell_type": "code",
   "execution_count": 50,
   "metadata": {
    "collapsed": true
   },
   "outputs": [],
   "source": [
    "training_output_filename = data_dir  + \"training_utterances_n_range_collapsed.csv\"\n"
   ]
  },
  {
   "cell_type": "code",
   "execution_count": 51,
   "metadata": {
    "collapsed": true
   },
   "outputs": [],
   "source": [
    "# split dataset evenly based on labels\n",
    "def split_test_train(total, stratify_col):\n",
    "    transition_rows = total[total[stratify_col] != 0]\n",
    "    non_transition_rows = total[total[stratify_col] == 0]\n",
    "    \n",
    "    # first split transitions into training/testing\n",
    "    X_train1, X_test1, y_train1, y_test1 = train_test_split(transition_rows, \n",
    "                                                    transition_rows[target_col], \n",
    "                                                    test_size=0.30, random_state=42)\n",
    "    \n",
    "    # assert there are only transition labels in this dataframe\n",
    "    assert len(X_train1[X_train1[target_col] == 0]) == 0\n",
    "    assert len(X_test1[X_test1[target_col] == 0]) == 0\n",
    "    \n",
    "    train_len = len(X_train1) # number of non-transitions to add to training set\n",
    "    test_len = len(X_test1) # number of non-transitions to add to testing set\n",
    "    \n",
    "    \n",
    "    # next split non-transitions into training/testing\n",
    "    X_train2, X_test2, y_train2, y_test2 = train_test_split(non_transition_rows, \n",
    "                                                    non_transition_rows[target_col], \n",
    "                                                    test_size=0.30, random_state=42)\n",
    "    \n",
    "    # pick train_len random rows from non-transition training set\n",
    "    ###change n = train_len\n",
    "    print(train_len)\n",
    "    X_train2 = X_train2.sample(n = train_len*4, axis=0)\n",
    "    \n",
    "    # pick test_len random rows from non_transitions testing set\n",
    "    X_test2 = X_test2.sample(n = test_len, axis=0)\n",
    "    \n",
    "    # assert there are no transition utterances in non-transition training and testing set\n",
    "    assert len(X_train2[X_train2[target_col] != 0]) == 0\n",
    "    assert len(X_test2[X_test2[target_col] != 0]) == 0\n",
    "    \n",
    "    # final result, concat the dataframe\n",
    "    X_train_final = pd.concat([X_train1, X_train2])\n",
    "    X_test_final = pd.concat([X_test1, X_test2])\n",
    "    return X_train_final['text'], X_test_final['text'], X_train_final[target_col], X_test_final[target_col]\n",
    "    "
   ]
  },
  {
   "cell_type": "code",
   "execution_count": 52,
   "metadata": {
    "collapsed": true
   },
   "outputs": [],
   "source": [
    "data = pd.read_table(training_output_filename, sep = \"~\")"
   ]
  },
  {
   "cell_type": "code",
   "execution_count": 53,
   "metadata": {
    "collapsed": true
   },
   "outputs": [],
   "source": [
    "train = pd.read_table(training_output_filename, sep=\"~\")[['text', target_col]]"
   ]
  },
  {
   "cell_type": "code",
   "execution_count": null,
   "metadata": {
    "collapsed": true
   },
   "outputs": [],
   "source": []
  },
  {
   "cell_type": "code",
   "execution_count": 54,
   "metadata": {},
   "outputs": [
    {
     "data": {
      "text/plain": [
       "Index(['text', 'transition_value'], dtype='object')"
      ]
     },
     "execution_count": 54,
     "metadata": {},
     "output_type": "execute_result"
    }
   ],
   "source": [
    "#make all 2's into 1's\n",
    "train.loc[train['transition_value'] > 0, 'transition_value'] = 1\n",
    "train.columns"
   ]
  },
  {
   "cell_type": "code",
   "execution_count": 55,
   "metadata": {},
   "outputs": [
    {
     "name": "stdout",
     "output_type": "stream",
     "text": [
      "2044\n"
     ]
    }
   ],
   "source": [
    "x_train, x_test, y_train, y_test = split_test_train(train, target_col)"
   ]
  },
  {
   "cell_type": "code",
   "execution_count": 145,
   "metadata": {},
   "outputs": [
    {
     "data": {
      "image/png": "[encoded data removed]",
      "text/plain": [
       "<matplotlib.figure.Figure at 0x11a6ad978>"
      ]
     },
     "metadata": {},
     "output_type": "display_data"
    }
   ],
   "source": [
    "df = train.loc[train['transition_value']==1]\n",
    "lens = (df['text'].apply(len))\n",
    "plt.hist(lens, range = (0,20))\n",
    "plt.show()"
   ]
  },
  {
   "cell_type": "code",
   "execution_count": 57,
   "metadata": {
    "collapsed": true
   },
   "outputs": [],
   "source": [
    "# there are 5226 transition phrases and 5226*6 = 31356 non transition phrases\n",
    "# 36582 total"
   ]
  },
  {
   "cell_type": "code",
   "execution_count": 58,
   "metadata": {
    "collapsed": true
   },
   "outputs": [],
   "source": [
    "transition_rows = train[train[target_col] != 0]\n"
   ]
  },
  {
   "cell_type": "markdown",
   "metadata": {},
   "source": [
    "### Assert training and testing splits are the correct dimensions\n",
    "### After splitting, training and testing sets should each have 50% transitions and 50% non-transitions\n",
    "### training dimensions should be 2 * 70% of the number of transitions in the data set\n",
    "### testing dimensions should be 2 * 30% of the number of transitions in the data set"
   ]
  },
  {
   "cell_type": "code",
   "execution_count": 59,
   "metadata": {
    "collapsed": true
   },
   "outputs": [],
   "source": [
    "assert len(x_train) == len(y_train)"
   ]
  },
  {
   "cell_type": "code",
   "execution_count": 60,
   "metadata": {
    "collapsed": true
   },
   "outputs": [],
   "source": [
    "assert len(x_test) == len(y_test)"
   ]
  },
  {
   "cell_type": "code",
   "execution_count": 61,
   "metadata": {},
   "outputs": [
    {
     "ename": "AssertionError",
     "evalue": "",
     "output_type": "error",
     "traceback": [
      "\u001b[0;31m---------------------------------------------------------------------------\u001b[0m",
      "\u001b[0;31mAssertionError\u001b[0m                            Traceback (most recent call last)",
      "\u001b[0;32m<ipython-input-61-5cfd3ec863a0>\u001b[0m in \u001b[0;36m<module>\u001b[0;34m()\u001b[0m\n\u001b[0;32m----> 1\u001b[0;31m \u001b[0;32massert\u001b[0m \u001b[0mlen\u001b[0m\u001b[0;34m(\u001b[0m\u001b[0mx_train\u001b[0m\u001b[0;34m)\u001b[0m \u001b[0;34m==\u001b[0m \u001b[0mint\u001b[0m\u001b[0;34m(\u001b[0m\u001b[0mlen\u001b[0m\u001b[0;34m(\u001b[0m\u001b[0mtransition_rows\u001b[0m\u001b[0;34m)\u001b[0m \u001b[0;34m*\u001b[0m \u001b[0;36m0.7\u001b[0m\u001b[0;34m)\u001b[0m \u001b[0;34m*\u001b[0m \u001b[0;36m2\u001b[0m\u001b[0;34m\u001b[0m\u001b[0m\n\u001b[0m",
      "\u001b[0;31mAssertionError\u001b[0m: "
     ]
    }
   ],
   "source": [
    "assert len(x_train) == int(len(transition_rows) * 0.7) * 2"
   ]
  },
  {
   "cell_type": "code",
   "execution_count": null,
   "metadata": {
    "collapsed": true
   },
   "outputs": [],
   "source": [
    "assert len(x_test) == (len(transition_rows) * 2) - (int(len(transition_rows) * 0.7) * 2)"
   ]
  },
  {
   "cell_type": "code",
   "execution_count": null,
   "metadata": {},
   "outputs": [],
   "source": [
    "assert len(y_train[y_train == 0]) == len(y_train[y_train != 0])"
   ]
  },
  {
   "cell_type": "code",
   "execution_count": null,
   "metadata": {
    "collapsed": true
   },
   "outputs": [],
   "source": [
    "assert len(y_test[y_test == 0]) == len(y_test[y_test != 0])"
   ]
  },
  {
   "cell_type": "markdown",
   "metadata": {},
   "source": [
    "### Vectorize utterances with bag of words features"
   ]
  },
  {
   "cell_type": "code",
   "execution_count": 62,
   "metadata": {
    "collapsed": true
   },
   "outputs": [],
   "source": [
    "count_vect = CountVectorizer()\n",
    "count_vect.fit(np.hstack((x_train, x_test)))\n",
    "X_train_counts = count_vect.transform(x_train)\n",
    "X_test_counts = count_vect.transform(x_test)"
   ]
  },
  {
   "cell_type": "code",
   "execution_count": 63,
   "metadata": {
    "collapsed": true
   },
   "outputs": [],
   "source": [
    "assert X_train_counts.shape[1] == X_test_counts.shape[1]"
   ]
  },
  {
   "cell_type": "markdown",
   "metadata": {},
   "source": [
    "### Pass vectorized utterances into a Naive Bayes model"
   ]
  },
  {
   "cell_type": "code",
   "execution_count": 64,
   "metadata": {},
   "outputs": [
    {
     "data": {
      "text/plain": [
       "MultinomialNB(alpha=1.0, class_prior=None, fit_prior=True)"
      ]
     },
     "execution_count": 64,
     "metadata": {},
     "output_type": "execute_result"
    }
   ],
   "source": [
    "clf = MultinomialNB()\n",
    "clf.fit(X_train_counts, y_train)"
   ]
  },
  {
   "cell_type": "markdown",
   "metadata": {},
   "source": [
    "### Output accuracy on testing set"
   ]
  },
  {
   "cell_type": "code",
   "execution_count": 65,
   "metadata": {
    "collapsed": true
   },
   "outputs": [],
   "source": [
    "assert X_test_counts.shape[0] == y_test.shape[0]"
   ]
  },
  {
   "cell_type": "code",
   "execution_count": 66,
   "metadata": {},
   "outputs": [
    {
     "data": {
      "text/plain": [
       "0.52793614595210947"
      ]
     },
     "execution_count": 66,
     "metadata": {},
     "output_type": "execute_result"
    }
   ],
   "source": [
    "clf.score(X_test_counts, y_test, sample_weight=None)"
   ]
  },
  {
   "cell_type": "markdown",
   "metadata": {
    "collapsed": true
   },
   "source": [
    "## keras"
   ]
  },
  {
   "cell_type": "code",
   "execution_count": 67,
   "metadata": {
    "collapsed": true
   },
   "outputs": [],
   "source": [
    "from keras.utils.np_utils import to_categorical\n",
    "from keras.layers import Embedding, LSTM, Dense, Conv1D, MaxPooling1D, Dropout, Activation\n",
    "from keras.models import Sequential\n",
    "from keras.preprocessing.text import Tokenizer\n",
    "from keras.preprocessing.sequence import pad_sequences"
   ]
  },
  {
   "cell_type": "markdown",
   "metadata": {},
   "source": [
    "## tokenize words"
   ]
  },
  {
   "cell_type": "code",
   "execution_count": 68,
   "metadata": {
    "collapsed": true
   },
   "outputs": [],
   "source": [
    "tokenizer = Tokenizer(num_words=20000)\n",
    "tokenizer.fit_on_texts(x_train)\n",
    "sequences = tokenizer.texts_to_sequences(x_train)"
   ]
  },
  {
   "cell_type": "code",
   "execution_count": 69,
   "metadata": {},
   "outputs": [
    {
     "name": "stdout",
     "output_type": "stream",
     "text": [
      "(10220, 44)\n"
     ]
    }
   ],
   "source": [
    "#so all utterences are same length\n",
    "padded = pad_sequences(sequences, maxlen = 44)\n",
    "print(padded.shape)"
   ]
  },
  {
   "cell_type": "code",
   "execution_count": 70,
   "metadata": {},
   "outputs": [
    {
     "data": {
      "text/plain": [
       "array([[ 0.,  1.],\n",
       "       [ 0.,  1.],\n",
       "       [ 0.,  1.],\n",
       "       ..., \n",
       "       [ 1.,  0.],\n",
       "       [ 1.,  0.],\n",
       "       [ 1.,  0.]])"
      ]
     },
     "execution_count": 70,
     "metadata": {},
     "output_type": "execute_result"
    }
   ],
   "source": [
    "pred = to_categorical(y_train)\n",
    "pred\n"
   ]
  },
  {
   "cell_type": "code",
   "execution_count": 99,
   "metadata": {
    "collapsed": true
   },
   "outputs": [],
   "source": [
    "model = Sequential()\n",
    "model.add(Embedding(20000, 150, input_length=44))\n",
    "model.add(Conv1D(64, 5, activation='relu'))\n",
    "model.add(MaxPooling1D(pool_size=4))\n",
    "model.add(LSTM(150, dropout=0.2, recurrent_dropout=0.5))\n",
    "model.add(Dense(25,activation = 'sigmoid'))\n",
    "model.add(Dense(2, activation='sigmoid')) #fully connected layer\n",
    "model.compile(loss='binary_crossentropy', optimizer='rmsprop', metrics=['accuracy'])\n",
    "\n"
   ]
  },
  {
   "cell_type": "code",
   "execution_count": 100,
   "metadata": {
    "collapsed": true
   },
   "outputs": [],
   "source": [
    "#class weights \n",
    "class_weight = {\n",
    "    0 : 1.,\n",
    "    1: 4.,\n",
    "    }"
   ]
  },
  {
   "cell_type": "code",
   "execution_count": 147,
   "metadata": {},
   "outputs": [
    {
     "name": "stdout",
     "output_type": "stream",
     "text": [
      "Epoch 1/10\n",
      "10220/10220 [==============================] - 37s 4ms/step - loss: 0.9981 - acc: 0.6761\n",
      "Epoch 2/10\n",
      "10220/10220 [==============================] - 32s 3ms/step - loss: 0.8635 - acc: 0.7831\n",
      "Epoch 3/10\n",
      "10220/10220 [==============================] - 34s 3ms/step - loss: 0.7155 - acc: 0.8468\n",
      "Epoch 4/10\n",
      "10220/10220 [==============================] - 34s 3ms/step - loss: 0.5599 - acc: 0.8922: 2s - lo\n",
      "Epoch 5/10\n",
      "10220/10220 [==============================] - 34s 3ms/step - loss: 0.4474 - acc: 0.9206\n",
      "Epoch 6/10\n",
      "10220/10220 [==============================] - 32s 3ms/step - loss: 0.3604 - acc: 0.9409\n",
      "Epoch 7/10\n",
      "10220/10220 [==============================] - 32s 3ms/step - loss: 0.3088 - acc: 0.9544\n",
      "Epoch 8/10\n",
      "10220/10220 [==============================] - 32s 3ms/step - loss: 0.2653 - acc: 0.9617\n",
      "Epoch 9/10\n",
      "10220/10220 [==============================] - 39s 4ms/step - loss: 0.2474 - acc: 0.9624\n",
      "Epoch 10/10\n",
      "10220/10220 [==============================] - 41s 4ms/step - loss: 0.2349 - acc: 0.9645\n"
     ]
    },
    {
     "data": {
      "text/plain": [
       "<keras.callbacks.History at 0x11a6f94e0>"
      ]
     },
     "execution_count": 147,
     "metadata": {},
     "output_type": "execute_result"
    }
   ],
   "source": [
    "model.fit(padded, pred, epochs = 10,class_weight = class_weight)\n"
   ]
  },
  {
   "cell_type": "markdown",
   "metadata": {},
   "source": [
    "## testing \n"
   ]
  },
  {
   "cell_type": "code",
   "execution_count": 148,
   "metadata": {},
   "outputs": [
    {
     "name": "stdout",
     "output_type": "stream",
     "text": [
      "(1754, 44)\n"
     ]
    }
   ],
   "source": [
    "tokenizer.fit_on_texts(x_test)\n",
    "sequences = tokenizer.texts_to_sequences(x_test)\n",
    "test_padded = pad_sequences(sequences, maxlen = 44)\n",
    "print(test_padded.shape)"
   ]
  },
  {
   "cell_type": "code",
   "execution_count": 149,
   "metadata": {},
   "outputs": [
    {
     "name": "stdout",
     "output_type": "stream",
     "text": [
      "1754\n"
     ]
    }
   ],
   "source": [
    "predictions = model.predict(test_padded)\n",
    "predictions = np.argmax(predictions, axis =1)\n",
    "print(len(predictions))"
   ]
  },
  {
   "cell_type": "code",
   "execution_count": 150,
   "metadata": {},
   "outputs": [
    {
     "data": {
      "text/plain": [
       "0.55131128848346633"
      ]
     },
     "execution_count": 150,
     "metadata": {},
     "output_type": "execute_result"
    }
   ],
   "source": [
    "accuracy_score(predictions,y_test)\n"
   ]
  },
  {
   "cell_type": "code",
   "execution_count": 151,
   "metadata": {},
   "outputs": [],
   "source": [
    "#print(x_test.head(100))\n"
   ]
  },
  {
   "cell_type": "code",
   "execution_count": 152,
   "metadata": {},
   "outputs": [
    {
     "name": "stdout",
     "output_type": "stream",
     "text": [
      "0 1 Mr. Chair and members, George Thompson, on behalf of the California Medical Association, \n",
      "0 1 Senator Nielsen? \n",
      "0 1 How is that going to be impacted? \n",
      "0 1 Pan. \n",
      "0 1 We as a state can do better when it comes to providing comprehensive STEM education to all of our students, and I want us to do better. \n",
      "0 1 Chavez? \n",
      "0 1 I want to thank you for bringing this forward, because this is an issue of equity and \n",
      "0 1 mentor orange line san fernando valley has outgrown the bus rapid transit system \n",
      "0 1 We will take that as your close, we do have a motion in a second, it is do-pass. \n",
      "0 1 Nielsen. \n",
      "0 1 ...but that being said on behalf of the california state senate mr \n",
      "0 1 We're going back to, I think we're going to start with issue number four. \n",
      "0 1 Okay. \n",
      "0 1 No, nielsen. \n",
      "0 1 Sure, please. \n",
      "0 1 ...when your child of a single-mother so there's a direct \n",
      "0 1 Have six votes in favor, leave the roll open for absent members. \n",
      "0 1 I didn't know that the police could take my child out of school without my knowledge or permission. \n",
      "0 1 File item 20, Senator Pavley. \n",
      "0 1 The legislature's skin, the state skin and that's what we're working on right now. \n",
      "0 1 We've done everything we can to make this a better bill. \n",
      "0 1 You can't. \n",
      "0 1 right now a license type 47 for general on sale restaurant, \n",
      "0 1 Empirical evidence on that but anecdotally this is what we know. \n",
      "0 1 Thank you Mr. Speaker. \n",
      "0 1 ...discussion is items senator nielsen. Mr president ladies and gentlemen of the senate I would urge a no vote. \n",
      "0 1 And as one of the stakeholder organizations that has been working with the DMV, and \n",
      "0 1 for the public agencies and those meters are running. We had one case out of Berkeley that came to conclusion last year. \n",
      "0 1 they get notice of the rate increase 60 days in advance of the start of the rate year, which is prior to open enrollment. \n",
      "0 1 Dialogue about additional information that they might have garnered and \n",
      "0 1 Mike Prosio with Anthem Blue Cross in strong support. Alice [UNKNOWN] with Blue Shield of California in strong support.. \n",
      "0 1 And the truth of the matter was it's illusory. \n",
      "0 1 with propose amendments taken we would pull of the bill. \n",
      "0 1 Item 29. \n",
      "0 1 Regarding the federal. \n",
      "0 1 Ms. Carrie Nocella, the director of government relations for Disney Resort. \n",
      "0 1 And it wasn't just them saying, the food quality stinks. \n",
      "0 1 A lot of the chronic diseases and the health disparities we see throughout \n",
      "0 1 And yet we're putting another tax on what we inarguably have said \n",
      "0 1 Every two hours, each resident is required a visual check and re-position change they're brief. \n",
      "0 1 He was a good student some of his peers say but the majority of his peers tell us that he was a better athlete. \n",
      "0 1 Mccartney. \n",
      "0 1 So, I'm supportive of this, but I hope at some point as it moves forward, \n",
      "0 1 Yep. >> Please? \n",
      "0 1 $1200 I think, we have some information, $1200 would cover 800 of these tests, \n",
      "0 1 of our state, trying to provide as best we can, for \n",
      "0 1 Well, senator roth. \n",
      "0 1 [INAUDIBLE] Yes Senator Bates? \n",
      "0 1 substantiated...then...and I respectfully ask for either. \n",
      "0 1 Holden? \n",
      "0 1 Odair on behalf of California League Conservation Voters in support. \n",
      "0 1 Good morning, Mr. Chair and members of the committee. \n",
      "0 1 rough runner stone ...kelsey. \n",
      "0 1 This proposal is a bill that we, as many of you know, have opposed for all of the 11 years I have been at the State Fed. \n",
      "0 1 Thank you Mr. Chair, members. \n",
      "0 1 Gomez, aye. \n",
      "0 1 seven quirk from utilities and commerce committee to the rules committee? \n",
      "0 1 ...requests have been approved by the rules committee. \n",
      "0 1 In 2015, After the TNCs have come out, now we're number seven in most year-round particle pollutants. \n",
      "0 1 sixty-one no zero on the bill measure passes. File I'm seventy ...thirty-six corporate \n",
      "0 1 Every time we see a market rate development that goes forward that could have utilized this law that didn't, \n",
      "0 1 Mr. Gomez. \n",
      "0 1 9-0, that bill is out. \n",
      "0 1 a city and it's RDA and we see interest in real property remained with the city. \n",
      "0 1 Bills and resolutions like this are so important to our youth because I think that when people \n",
      "0 1 the nature of the contract is such that given natural variation that there's actually going to be savings. \n",
      "0 1 ...mr-dot misread what ...garcia your recognize thank you mr speaker members of this floor as cheer the assembly committee and jobs? \n",
      "0 1 The employer's only responsibility during this entire 12 week period of time is to pay for \n",
      "0 1 And I'm more than happy to speak with \n",
      "0 1 cost immense amounts of money to our families, to our state, to our insurers, to our employers. \n",
      "0 1 twenty seven exchange has ...unanimous bipartisan support I ask for your ...vote thank you \n",
      "0 1 English language development framework, we would be able to update our standards and then move into our work in 2019 with the development of the framework and the criteria for instructional materials. \n",
      "0 1 Chair, please proceed. \n",
      "0 1 today in order the ensure the voters are given the chance to weigh in on a question that probably should have been on the ballot in 2014. \n",
      "0 1 But Steve Sample made sure that the culture at this academic institution included, \n",
      "0 1 made for either one or more water quality standards. \n",
      "0 1 allows it requires local permits ...required to operate and they can be revoked and the businesses must close \n",
      "0 1 discriminatory, unscientific, \n",
      "0 1 And this what the Legislature does, we're the funder and we want to make sure that the money is being used correctly. \n",
      "0 1 we can half for the full year for us children so it's actually very exciting \n",
      "0 1 Brown. \n",
      "0 1 Pavley, aye. \n",
      "0 1 Okay, there we go. \n",
      "0 1 those trouble tickets come after the fact, they're compiled quarterly, they're reported annually. \n",
      "0 1 by the legislature and the government, we approved that in the budget. \n",
      "0 1 But, despite these health challenges he developed earlier this year, \n",
      "0 1 first twenty one twenty fourteen and july thirty first twenty fifteen. \n",
      "0 1 Please state your name and position. \n",
      "0 1 it has continued to go on an up hill slide, it continues to climb. \n",
      "0 1 It's going to help protect consumers to insure safety that we're able to close recreational and commercial all at once. And it's going to help the fleet as well to bring clarity. \n",
      "0 1 Knows twenty-three measure passes. \n",
      "0 1 Thanks, man. \n",
      "0 1 Seeing and hearing none, are there questions or comments from members of the committee? \n",
      "0 1 Okay, thank you, I and I want to thank you also for accepting the committee amendments. \n",
      "0 1 Comments or questions from committee? \n",
      "0 1 I respectfully ask for your support on this bill and have two speakers with me today, \n",
      "0 1 It leaves to the discretion of the pharmacist or \n",
      "0 1 traditional on sale than there are today and still be within the legal limit. \n",
      "0 1 [INAUDIBLE] \n",
      "0 1 The Office of Planning Research estimates the need for an ongoing $200,000 in two positions to implement the provisions of this bill. \n",
      "0 1 a law saying that, we can be selective as to who live in our community. \n",
      "0 1 Which the bill will set up. Both departments already have in place a voluntarily independent dispute resolution process, \n",
      "0 1 That would be SB 1052, \n",
      "0 1 We're asking for an exemption here to address what I think is an extraordinary set of circumstances in a certain district. We've put a Sunset on it, so it doesn't change permanently. \n",
      "0 1 because you have made some recommendations there and I know you're wondering where we are on that. \n",
      "0 1 with very limited time to try to figure that out, we decided to not include that in last year's bill, \n",
      "0 1 Ed Barons on behalf of Los Angeles County Board of Supervisors, in support. Angel Fong for Environmental California, in support. \n",
      "0 1 Thank you again mR speaker I'm joined here by many individuals from all over this \n",
      "0 1 All those in favor say aye. \n",
      "0 1 Block aye. \n",
      "0 1 By gains. \n",
      "0 1 And as such, the courts have said Any special treatment of that community \n",
      "0 1 Aye. >> McGuire, aye. \n",
      "0 1 entire fourteen days before an election in streamline the approval process for \n",
      "0 1 Aye. >> Monning aye. \n",
      "0 1 Thank you Senator Bates. \n",
      "0 1 exist in the entire world, along with that, should come compassion. \n",
      "0 1 Yeah, and it's \n",
      "0 1 Mr. Chair, Ignacio Hernandez on behalf of the California Attorneys for Criminal Justice Statewide Association. \n",
      "0 1 That's 2031, but let's do them in order. \n",
      "0 1 And I would hope that, as my colleague said from Modesto, that we've been talking about this issue for five years. \n",
      "0 1 eliminate investments in a range of clean fuel vehicles technologies needed to move California to a cleaner future. \n",
      "0 1 By that. \n",
      "0 1 Item five With 9-0. \n",
      "0 1 So Senator, I know you made some reference to the amendments. \n",
      "0 1 Senator Pavley. \n",
      "0 1 temporary funding of the California Senior Legislature for budget year 2016/17. \n",
      "0 1 after fighting with this since March of 2015. \n",
      "0 1 Well, good afternoon, everyone. \n",
      "0 1 So we would I think it's a tremendous bill and we would urge you to move this bill forward. \n",
      "0 1 Senator Pavley appreciates that very much. \n",
      "0 1 Aye. >> Wagner, aye. \n",
      "0 1 god indivisible with liberty and justice for all. You may be seen it. \n",
      "0 1 Gomez, aye. \n",
      "0 1 By hancock. \n",
      "0 1 One would dissolve the entire district, you would put parameters on what the district must spend. \n",
      "0 1 Aye. \n",
      "0 1 Department of Public Health and Mental Health Services Oversight and Accountability Commission. \n",
      "0 1 He looked it up. \n"
     ]
    },
    {
     "name": "stdout",
     "output_type": "stream",
     "text": [
      "0 1 they're able to adapt better to the demands of parenting and they ultimately have healthier families. \n",
      "0 1 Thank you. \n",
      "0 1 But, I'm here to advocate that we need I think stronger punishments. \n",
      "0 1 Aye Huff. \n",
      "0 1 Leyva? \n",
      "0 1 Under privileges of the floor. \n",
      "0 1 Yeah, Senator, first of all, I want to tell how much I appreciate your efforts to clean the environment, go green. You've done heroic work at the Sacramento level and beyond. \n",
      "0 1 Andrea Deveaux on behalf of TechNet. \n",
      "0 1 I think, maybe we should just quick goofing around with a dollar, why don't we go to $20 or $30 an hour? \n",
      "0 1 Item number nine, SB1110. \n",
      "0 1 as our author mentioned we know STEM is. \n",
      "0 1 the risk of quickly developing severe undetected illness. \n",
      "0 1 And then we'll take a separate vote on items one and nine. \n",
      "0 1 what are very special recognition to the author of this measure has been very tenacious \n",
      "0 1 I would to be delighted and recognizing that there are not a whole lot of \n",
      "0 1 I want to thank Speaker Atkins and Senator Pavley for your very fine work. This is a result of very arduous, very difficult \n",
      "0 1 UC is establishing a board to administer this program. \n",
      "0 1 And, to know ...you have an employer who would have your back. \n",
      "0 1 Okay, I hear the Sunset Review was very vocal along those lines. \n",
      "0 1 help improve their chances of being reunified with their parents or reach permanency with a relative. \n",
      "0 1 government entities can efficiently process those requests in today's environment. \n",
      "0 1 how far we are straying from the basic principles of representative government with this bill. \n",
      "0 1 by runner by stone by right ask \n",
      "0 1 need to be put into it to in fact fix the Bar association. \n",
      "0 1 So it's a community that needs our help and I'm going to ask for an aye vote. \n",
      "0 1 Fuller? \n",
      "0 1 especially when you take into consideration new bills coming out of this legislature that may in fact become laws. \n",
      "0 1 Thank you very much. \n",
      "0 1 That bill has two votes, 2-2 and we'll hold the roll open for the absent members, so thank you very much. \n",
      "0 1 Attorney objection substituting a unanimous roll call seeing and hearing \n",
      "0 1 There's no ceiling. \n",
      "0 1 My name is John Pointer chair joint rules committee California Senior Legislature. \n",
      "0 1 I'm sorry. \n",
      "0 1 We don't think thats its honor as to name things after historical figures that did something negative. \n",
      "0 1 we can put a measure of oversight on it. \n",
      "0 1 Thank you. \n",
      "0 1 ...I have the high rough by runner. \n",
      "0 1 Now, the amendment that committee wants us to take, and we've been working very closely with the proponents of this measure and with the Governor's office, Department of Finance, \n",
      "0 1 I'd like to move forward with the roll call vote, do pass to approps. \n",
      "0 1 File item 7 is on consent, final vote 15 to 0. \n",
      "0 1 Democrats as well as Republicans. \n",
      "0 1 very proud of this legislation moving forward so I would ask for your aye vote. Thank you Mr. Lackey, with that clerk will open the roll. \n",
      "0 1 one thirty three excuse me one thirty four. \n",
      "0 1 Just to talk a little bit about how this grant will work. \n",
      "0 1 She was lucky in that she had a car and she could drive herself. \n",
      "0 1 And I think it's a big step forward to making classes more available if schools or district choose to do that. But if you look at the numbers, there's over 1.7 million high school students in our public high schools in California. \n",
      "0 1 By anderson hi ... \n",
      "0 1 We do do a public bidding process. \n",
      "0 1 Allen? \n",
      "0 1 Is there any other restriction on the number of days that one can have per diem too? \n",
      "0 1 Harper? \n",
      "0 1 DPR completes risk assessments of pesticides and, when warranted, \n",
      "0 1 vote desire to vote all members vote. \n",
      "0 1 Aye. >> Cooley Aye. \n",
      "0 1 our kids obviously some of the other states if ...major problems with children just think about it the ...detergent pods that small kids \n",
      "0 1 Do [UNKNOWN] bill is I I suspect that the Assemblymember \n",
      "0 1 for public transit agencies by establishing a five-year pilot program \n",
      "0 1 ...ridley thomas rodriguez \n",
      "0 1 Anderson I ...is going to do this once at \n",
      "0 1 As being around for the time when the sexual predator law was written, I can tell you how important this information is. \n",
      "0 1 By leno high labor I \n",
      "0 1 are not required in emergency situations, and situations in which there are concerns about safety. \n",
      "0 1 and our review of the records show that there have been actually no \n",
      "0 1 we can make sure all of our children receive the support to which they are entitled. \n",
      "0 1 Gallagher. \n",
      "0 1 But I also want to just thank you and absolutely agree with the intent of this bill. \n",
      "0 1 Roth? >> Numbered. Six to two. >> Six to two, that bill is out. \n",
      "0 1 Eligibility to participate in the program is limited to cities and counties. \n",
      "0 1 It's sponsored by the Independent Energy Producers, but certainly is in my wheelhouse from my experience in life. \n",
      "0 1 Health Insurance companies, we too appreciate all the hard work of the author and sponsor, and we'll be removing our opposition. \n",
      "0 1 out there and that as a talked about earlier \n",
      "0 1 ...made upon recess thank you yes. \n",
      "0 1 So we are here this year trying to tackle two of the most concerning issues of cities and counties. \n",
      "0 1 Going now to items on third reading. File items 83 through 86 we'll pass and retain. \n",
      "0 1 No respect for the environment, no respect for people with disabilities no respect to workers. \n",
      "0 1 Nielsen, Pan? \n",
      "0 1 We're all aware of the dangers of smoking and the negative health impacts of second hand smoke exposure. \n",
      "0 1 would you provide more information on this particular subject? \n",
      "0 1 I'm trying to find out what is acceptable to this committee and to the Senate Appropriations. \n",
      "0 1 As reflected in the staff recommendation as of the May revision. \n",
      "0 1 So, that's something that we think that could be dealt with in this legislation and we're working on some amendments to deal with that particular concern. \n",
      "0 1 Can you address those because I think we want to be able to see how that's going to be able to be worked out. \n",
      "0 1 Members, I'm presenting AB 278 on district-based elections. \n",
      "0 1 ...where they became very active in their community down on the rain \n",
      "0 1 Thank you madame president senators once \n",
      "0 1 I'm sorry, but your child's hearing aid is not covered under this insurance plan. \n",
      "0 1 Senate bill 536 by Senator Roth. \n",
      "0 1 applications tends to it's been around for a long time and it tends to. \n",
      "0 1 And the bill may enhance their commercial convenience, but it is not something, \n",
      "0 1 I want to thank you so much for the work that you have done and the staff has done. \n",
      "0 1 Okay, with that this is a do pass to appropriations, is that correct? \n",
      "0 1 Secretary, please read. \n",
      "0 1 to get giving the FW is going to be critical as we move into the fourth \n",
      "0 1 Aikman ...gains. \n",
      "0 1 the speaker members SB three six five or make \n",
      "0 1 These housing costs particularly impact our growing senior population including veterans. \n",
      "0 1 of Kaiser Permanente there in particular in Fontana. \n",
      "0 1 Mr. Dahle? \n",
      "0 1 because I think there still is, it's a moving violation, and so \n",
      "0 1 Additional support witnesses, please? \n",
      "0 1 Senators Galgiani? \n",
      "0 1 Objection. \n",
      "0 1 a democratic caucus and there is a bill we're waiting on. \n",
      "0 1 Thank you, witnesses in support? Good morning, Chair and members. \n",
      "0 1 evaluating the bill, and to the Chair of environmental quality which we're grateful for. \n",
      "0 1 for the day for illness assembly member quirk? \n",
      "0 1 That that's the purpose of parent engagement is to really help parents make the decisions that's going to push the district \n",
      "0 1 And it would help these organizations to identify \n",
      "0 1 Anderson? \n",
      "0 1 Senator Hernandez. \n",
      "0 1 ...and confident I'm sitting next to one right now a \n",
      "0 1 SB 842, clerk will read. \n",
      "0 1 If we don't know that an individual is coming in, which is in the amendments to the bill we would know. \n",
      "0 1 we have many guess introductions before us today members. \n",
      "0 1 Madam Chair and Members. \n",
      "0 1 ...labor I ...by mcguire. \n",
      "0 1 Senator Stone. \n",
      "0 1 AB 1664, if you read again the information in here, the bullet gun. \n",
      "0 1 Thank you very much, Mr. President. Mr. President, under motions and resolutions, please. \n",
      "0 1 [INAUDIBLE] \n",
      "0 1 Others in support of the bill, please just do a me too. \n",
      "0 1 I'm a real. \n",
      "0 1 And they were able to go into business themselves with permission from the government no different than we applying for licenses to do business. So even though the talk, and the reasons maybe to oppose the bill it was how their government to scare people. \n",
      "0 1 Cooper. \n",
      "0 1 We say it often, but I don't know, sometimes if we feel the meaning of its power. \n",
      "0 1 So yes, does it maybe impact administratively for those. \n",
      "0 1 Thank you ...additional debate discussion on this item. \n",
      "0 1 And we look forward to continuing that discussion with all of our supporters and their committee staff. \n",
      "0 1 In addition, even for those schools that might have one or two individuals who are licensed, \n",
      "0 1 We've worked with him on other parking bills and thank you for your time. Okay, other witness please. \n",
      "0 1 Gentleman, thank you and your colleagues for your service to our state. \n",
      "0 1 McGuire. \n",
      "0 1 ...a CR ...forty nine and I ask for the role be open for co-authors the first \n",
      "0 1 Aye. >> Glazer. \n",
      "0 1 The day that there's a complaint from the neighbor that this isn't happening, then I have a right as a city, with my public works, my enforcement group, to go out and see what's happening or what's not happening. \n",
      "0 1 The bill is out, close the roll. \n",
      "0 1 limits on the use of this technology while it has \n",
      "0 1 I had no idea where Arvin was, not knowing that it had the worst air quality in the state and in the country. \n",
      "0 1 Highway so. \n",
      "0 1 others be able to engage decision makers in the dark. \n",
      "0 1 It does not take Medi-Cal. \n",
      "0 1 So, I have to shut you off at this point I apologize. \n",
      "0 1 We have time. \n",
      "0 1 forest recreation area the ...resulting storage of help to provide safe and \n",
      "0 1 a lot of attention when we've been trying to improve education has been to say \n",
      "0 1 Buy ...very hill. \n",
      "0 1 Maybe there's a further amendment in there that clarifies that these are cars that are driven a limited number of miles per year. \n",
      "0 1 Members, this is for coauthors. \n",
      "0 1 Anderson, Glazer? \n",
      "0 1 Well, what? >> [UNKNOWN] the licence, you will pay the fee and that's how we're regulating out of the program. \n",
      "0 1 Clerk will post. All members vote who desire to vote. \n",
      "0 1 And that was quite a moving experience. \n",
      "0 1 I have the honor and privilege of serving as the national president. \n",
      "0 1 Illinois. \n",
      "0 1 if you don't get those out, and you work in teams, you have the design team, the drafting team, \n",
      "0 1 Reports of committee will be deemed read and amendments adopted. \n",
      "0 1 I think it might bear a little bit of attention, I don't haven't drilled into it enough but I would like to. \n",
      "0 1 All members vote who desire to vote. \n",
      "0 1 Of his community he spent eight years \n",
      "0 1 They've already acknowledged that they're moving in that direction. Now let's just encourage them. \n",
      "0 1 Aye. >> Aye, Nielson? \n",
      "0 1 Thank you, and thank you for your continued service to our great country. \n",
      "0 1 ...such a video ... \n",
      "0 1 Thank you so much for being here. \n",
      "0 1 We respectfully ask for your aye vote on this bill. \n",
      "0 1 Mitchell? \n",
      "0 1 enough to be the witness of how you the governor and \n",
      "0 1 All members vote who desire to vote. \n",
      "0 1 In many counties that is actually happening. \n",
      "0 1 I will defer, but just as real quick comment, in my opinion, \n",
      "0 1 The mayor. \n",
      "0 1 Aye. >> Hall aye, Berryhill? \n",
      "0 1 Process is not it's just an american so I urge \n",
      "0 1 we just want to thank the Senator for bringing this issue to the state legislature. \n",
      "0 1 Call the members, please. \n",
      "0 1 ...members voted \n",
      "0 1 the VLF gas that was created in SB 89, \n",
      "0 1 have had over time and provides that information. \n",
      "0 1 take part in climate change strategies and actually implement their climate action plan. \n",
      "0 1 Thank you. \n",
      "0 1 facilities that which cost more than $10,000 or \n",
      "0 1 ask that the first call roll call be open for co-authors. \n",
      "0 1 Needs one more vote, we'll put it on call. \n",
      "0 1 Because we represent not only individuals but businesses and healthcare facilities and medical groups. And I don't know what the answer to any of that is. \n",
      "0 1 Good morning, and welcome to the [UNKNOWN] committee hearing. \n",
      "0 1 When we see that there are people, \n",
      "0 1 to cost on a year over year basis about $8 million. \n",
      "0 1 Okay, continue please. \n",
      "0 1 It's okay, I mean, because if you've already had a program and now I don't have the text, \n",
      "0 1 By morning ...more ... \n",
      "0 1 No. \n",
      "0 1 [FOREIGN] \n",
      "0 1 ...is there any objection to unanimous roll call. \n",
      "0 1 Members, debate or discussion on this item? \n",
      "0 1 I am a member of the general public, I represent about 30 million Californians who already believe that we already had somebody looking out for \n",
      "0 1 John Sawyer. \n",
      "0 1 think the leadership on both sides of the island governor brown for working together on \n",
      "0 1 We don't know who put her body on that canyon. \n",
      "0 1 Memorial Care talks about the next nearest hospital being 15 miles away. \n",
      "0 1 Tom Addison on behalf of the Legislative Committee of the Bay Area Air Quality Management District here to respectfully oppose both the measure that's in print as well as the recent proposed amendments. \n",
      "0 1 But that was just the business side of Jack. \n",
      "0 1 We want to go ahead and point out the number of times \n",
      "0 1 in a very positive way in my home community of South San Francisco, where there was flexibility allowed, \n",
      "0 1 a significant burden for those smaller employers to deal with a mandated protected leave of absence. \n",
      "0 1 And number two, providing professional development for \n",
      "0 1 I think the range was 50% to 70%. \n",
      "0 1 discuss the role of Telehealth at her 115 clinics. \n",
      "0 1 It's just the goal, we don't need to have it in the state law. \n",
      "0 1 eighty to the active file that will be the order thank you senator allen senator \n",
      "0 1 Additionally, an estimated 300,000 children under the years of 18 have a form of arthritis or \n",
      "0 1 will be able to get a fair Medicare rate, and will have an appeal process. \n",
      "0 1 If we can't do things because of our sense of basic human decency, and \n",
      "0 1 If that causes real consternation, we would be more than happy to amend that. \n",
      "0 1 Mr. Chair and members, Sara Flocks from the California Labor Federation, very much in support of this bill. \n",
      "0 1 Aye. Wieckowski? \n",
      "0 1 One witness, who would like to briefly make some comments and introduce herself. \n",
      "0 1 And we have a million and a half families that lack access to affordable housing. I appreciate also the comments and perspectives of everyone from every part of the state. \n",
      "0 1 So now you have this lifetime cap once you reach it you no longer allowing the opportunity for people who want to better their kids' education to move. \n",
      "0 1 But it seems to me that just brings, you have Orange County and you have, what else is out there? \n",
      "0 1 Colleagues, the Assembly amendments to Senate Bill 536 were technical in nature. \n",
      "0 1 Thank you. \n",
      "0 1 Mitchell by money by more like I'm a \n",
      "0 1 Mr. Secretary, please read. \n",
      "0 1 Aye. >> Hueso aye, Morrell, Cannella. \n",
      "0 1 aye idaho's same-day the ayes habit the amendments are adopted \n",
      "0 1 But if you'd like to close? \n",
      "0 1 Aye, Hernandez? \n",
      "0 1 Do we have any witnesses in opposition? \n",
      "0 1 Ashley Harris on behalf of the California State Sheriffs Association in support. Thank you. \n",
      "0 1 [INAUDIBLE] \n",
      "0 1 Thank you. \n",
      "0 1 Garcia? >> Aye. \n",
      "0 1 I'm happy to report that the efforts that were conducted down there were extremely successful. \n",
      "0 1 Senator Beall. \n",
      "0 1 Senator Liu, I'm sorry Senator Pan if you'd like to go first Senator Pan followed by Senator Liu at Senator De Leon's desk. \n",
      "0 1 And I think anything we can do to alleviate the tax burden on the fine citizens of the state is a good bill. \n",
      "0 1 Mr Chairman, I want to make an acknowledgment. \n",
      "0 1 Now I acknowledge that this committee voted on SB 236 which \n",
      "0 1 Everybody has got smiles on their face. \n",
      "0 1 eight-eighty five sixteen please move to an active file so noted. \n",
      "0 1 Please call the roll. \n",
      "0 1 Yeah, let's hear from opposition and then we'll open it up. \n",
      "0 1 So we'll get a chance to see it then all right thanks. \n",
      "0 1 [INAUDIBLE] \n",
      "0 1 I'm arguing that we need them to participate, because they are in the best position to protect all of our interests. \n",
      "0 1 Thank you. Without objection, we move this item to the suspense file. \n",
      "0 1 Education and education free of violence and trauma whether they live or not live on campus. \n",
      "0 1 Gallagher christina garcia a eduardo garcia \n",
      "0 1 Health Physical Education Recreation Dance in strong support and want to thank Senator Hancock and Assemblyman O'Donnell for their leadership in this area, thank you. \n",
      "0 1 And I also want to express my appreciation and gratitude for all the hard work that's been put into this over the last week. \n",
      "1 0 Several cities in my district have asked me to do something to bring serious change in how mobile home and\n",
      "1 0 So if our goal here is to increase enrollment, I'm just not convinced that this is the tool to do it.\n",
      "1 0 LA hello alan baker.\n",
      "1 0 The motion is due passed to the Senate floor.\n",
      "1 0 Item number 7, SB 1076, open the roll call the absent members.\n",
      "1 0 Convenience stores popular with adolescents display three more times as many cigarette marketing materials inside the store windows.\n",
      "1 0 Okay we will lift the call on the bill Mr. Lomith so he can vote, lifting the call.\n",
      "1 0 And I believe that's it right?\n",
      "1 0 we fear that it creates signficant potential for civil rights violations.\n",
      "1 0 ...this bill is that?\n",
      "1 0 that both the public and law enforcement have the tools necessary to proceed accordingly.\n",
      "1 0 As a result, we propose an alternative payment plan,\n",
      "1 0 So we have 121 charter cities in California, four have chosen to go this route.\n",
      "1 0 And that that money stays in the hands of transportation improvements and infrastructure.\n",
      "1 0 The clerk will note.\n",
      "1 0 Is roger disaster ...cop-out mr holden is asking for my vote\n",
      "1 0 In two instances, the repairs occurred in less than 24 hours, and in one instance it took 45 hours to repair,\n",
      "1 0 go to first reading and then come back to adjourn ...memories at the end\n",
      "1 0 Without objection, pursuant to joint rule 33.1,\n",
      "1 0 Thank you very much Mister Chairman.\n",
      "1 0 indicating that this sort of practice may violate the Mental Health Parity and Addiction Equity Act.\n",
      "1 0 as a substitution for the Social Security Number, despite the fact that we already\n",
      "1 0 It did not help those students to have to take 20 units in a semester.\n",
      "1 0 In Florida for example over the last ten years they've lost over $8 billion and 7500 jobs.\n",
      "1 0 There are already 15 peer-reviewed studies that show interlocks reduce DUI recidivism,\n",
      "1 0 Alberto Torrico, on behalf of the State Coalition of Probation Organizations, in support.\n",
      "1 0 and I'm disappointed they haven't looked at the wages\n",
      "1 0 But are we talking about putting like the general ledger or\n",
      "1 0 effortless in lisp tons of varying quality or is ability to get\n",
      "1 0 We think it's a fair and equitable approach to reconnecting people with land that they may have been connected with for generations.\n",
      "1 0 And they led the police on a 100 mile an hour chase through the freeways of the Bay Area.\n",
      "1 0 No, sir. Just the school district.\n",
      "1 0 And if we can keep it to two minutes each, two witnesses, two minutes each.\n",
      "1 0 And it was very courageous of you to come and give your testimony about your beloved son.\n",
      "1 0 Beige signs landmark five hundred yards ahead so when I was studying for the\n",
      "1 0 in short, it was not possible to evaluate why the pathway was being recommended for my patients.\n",
      "1 0 The JVS program has an 80% placement rate.\n",
      "1 0 Item number 6, AB1668.\n",
      "1 0 AB 347 addresses Quorum issues for the L.A.\n",
      "1 0 Reading of the previous day's journal.\n",
      "1 0 693 with amendments.\n",
      "1 0 register under penal code section 292 be notified of that duty.\n",
      "1 0 There may be some support here that wants to testify because it needs that extra push.\n",
      "1 0 to provide us the information necessary for this sunrise review.\n",
      "1 0 My goal is to stop the anti-business, frivolous lawsuits that can be filled without risk to those filing those losses.\n",
      "1 0 Good morning, Tori Verber Salazar, district attorney of San Joaquin County.\n",
      "1 0 the CHP has been facing a structural shortfall for the last several years.\n",
      "1 0 Obviously it doesn't make me feel good to come up and oppose Senator Winn's bill.\n",
      "1 0 Ayes 51, nos 26.\n",
      "1 0 Good morning, Noelle Cramers with the California Farm Bureau Federation, I appreciate the questions that the staff raised in the agenda.\n",
      "1 0 AB 1395 incorporates violations of gambling laws into organized crime and\n",
      "1 0 My name is Kayla.\n"
     ]
    },
    {
     "name": "stdout",
     "output_type": "stream",
     "text": [
      "1 0 This bill coincides with the market decrease in sport fishing participation.\n",
      "1 0 make sure that the workers that make the University run can have a decent life,\n",
      "1 0 Elder abuse has estimated to cost Americans tens of billions of dollars annually in health care,\n",
      "1 0 Rob [UNKNOWN] on behalf of Grassroots Lab, the sponsor of the bill.\n",
      "1 0 and dignity that gives honor to their individual names.\n",
      "1 0 So here there is no liability for simply receiving an illegal recording.\n",
      "1 0 that air space rights do not extend from the ground up infinitely into space.\n",
      "1 0 Sophia Delcour for the California Coalition for Youth in support.\n",
      "1 0 Hi, Mr. Chair what's a late in the day for\n",
      "1 0 If you find a stolen gun someplace and you go back to the person who had the gun and he said, hey, those guns showed up at a crime.\n",
      "1 0 Ayes 25, excuse me, we're going to place a call.\n",
      "1 0 There's also been an increase of 850,000 new renter households in the last decade.\n",
      "1 0 in a comparable what the signs are actually generating.\n",
      "1 0 So we're hoping to come to some sort of workable solution that may not involve conservatorship.\n",
      "1 0 I'm a consultant for Friends of the River.\n",
      "1 0 from outside because we see exactly what happened here, ten major problems with the Munger Initiative.\n",
      "1 0 as well ...early taylor prohibition on the use of bradley burns tax rebates assembly\n",
      "1 0 age, sexual orientation or gender identity.\n",
      "1 0 Mark Fenstermaker on behalf of Save the Redwoods League, the Sonoma County Water Agency, the Sonoma County Agricultural Preservation and\n",
      "1 0 they're taught in schools by authorizing the state board of education to appoint\n",
      "1 0 we have Julia Jenkins that's their executive director here to answer any technical questions we may have.\n",
      "1 0 instead it would be appropriated by the legislature.\n",
      "1 0 graduated from North High School in Torrance and accepted Christ at a very early age.\n",
      "1 0 And perhaps I deserved it.\n",
      "1 0 The Los Angeles Police Protective League and the Riverside Sherrifs' Association.\n",
      "1 0 milk is at the disadvantage of lower income families,\n",
      "1 0 The Alliance of Defending Freedom has filed two separate lawsuits in state and\n",
      "1 0 A silly bill eighty four ...from the arts entertainment sports ...\n",
      "1 0 correct the public resources code and to remove obsolete provisions.\n",
      "1 0 the alliance in the [UNKNOWN] system.\n",
      "1 0 Members, I'm taking up 2502 for the purpose of amendment.\n",
      "1 0 The Assembly amendments are concurred in.\n",
      "1 0 fifty for the first jewish settlers came to this country seeking liberty and a place\n",
      "1 0 rejecting the Governor's one-time proposal and folding in that formally into one-time.\n",
      "1 0 From the San Bernardino City Fire Department, Fire Chief Thomas Hanneman.\n",
      "1 0 And one of the ways that we're doing that is to promote and support higher education.\n",
      "1 0 Okay, that bill has nine and we'll keep the roll open for the absent members, senator Leno?\n",
      "1 0 the bidder can bid, 30% lower wages,\n",
      "1 0 Unfortunately, work on the lower river has lagged behind.\n",
      "1 0 An act relating to nursing.\n",
      "1 0 have failed to raise enough money to fund a long and expensive court battle.\n",
      "1 0 We're on the breeze system.\n",
      "1 0 Robert Sumner with the attorney general's office, both are cosponsors of the bill, to testify in support.\n",
      "1 0 CPR, I've had three different situations this year alone.\n",
      "1 0 less than a month prior to his 70th anniversary as a priest.\n",
      "1 0 Bonita, aye.\n",
      "1 0 I just like to mention that we recognize the ACLU's and the DPA's concerns.\n",
      "1 0 This study highlights another reason why we should make it clear in law that a landlord has the ability to prohibit medical marijuana smoke.\n",
      "1 0 you have one or two attorneys who are supervising they can greatly expand their reach by having several people there supervising.\n",
      "1 0 learn about supplemental environmental projects, which brings us to this point last year.\n",
      "1 0 employment, social relationships and overall well being.\n",
      "1 0 Anybody else in support?\n",
      "1 0 sort of initiative processes and those park bonds,\n",
      "1 0 And that was the Coastal Act of 1972, that we look very carefully at consistency\n",
      "1 0 statutorily mandated calendar preferences such as juvenile cases,\n",
      "1 0 I don't need to tell you that the housing crisis is acute and that every day it gets worse in California.\n",
      "1 0 With due respect to my good colleague from Davis, I arise in opposition to this bill.\n",
      "1 0 This kind of bypasses that and goes directly to the implementation.\n",
      "1 0 Located in northern San Joaquin County, Lodi is a wine making region of California that is both old and new.\n",
      "1 0 ...for this and we wouldn't have to so I think there needs to be\n",
      "1 0 ...malice may not be intended to the use of the R word\n",
      "1 0 we set out to try to create a stronger, more effective regulatory regime on the medical cannabis industry.\n",
      "1 0 And this is due to two things, the fact that the bill's notice requirements are predicated\n",
      "1 0 Laurie, his daughter, Claire and\n",
      "1 0 responsible to comply with the state labor laws when they are applying for or are renewing their licences.\n",
      "1 0 I never hear that when someone runs a stop sign that see stop signs don't work, we should get rid of stop signs.\n",
      "1 0 Kelly Hitt on behalf of the Computing Technology Industry Association.\n",
      "1 0 working in the context\n",
      "1 0 Are there other persons here to support this bill?\n",
      "1 0 Members, this is an honor to present SB 296 for Mr. Cannella.\n",
      "1 0 Restorative justice refers to an alternative to punitive justice.\n",
      "1 0 last year was some inconsistency in\n",
      "1 0 I think a better approach would be to improve the civic education, would be to actually prioritize it.\n",
      "1 0 And while we wait for Senator Anderson I want to welcome the newest member of our appropriations team, Narisha Bonakda, who's here.\n",
      "1 0 illness that are often overlooked by current law the help and treatment they need.\n",
      "1 0 We have Senator Allen, Senator Roth.\n",
      "1 0 all offenders, providing your state another excellent step toward reducing crashes,\n",
      "1 0 Seeing and hearing none, secretary, please call the roll.\n",
      "1 0 So, this one is important to me, not that the others weren't,\n",
      "1 0 and continue to see patients at the VA hospital in west Los Angeles.\n",
      "1 0 don't debate that in most cases vaccines are good thing.\n",
      "1 0 Let's stop wasting time.\n",
      "1 0 Today we have the rare opportunity to make history and create the single largest funding mechanism for\n",
      "1 0 Assembly Bill 258 by Assembly Member Levine an act relating to organ transplants.\n",
      "1 0 especially those voters who registered Online to receive their voter, their state voter guide online.\n",
      "1 0 Olsen? >> Not voting.\n",
      "1 0 Ayes 70, noes 0, Senate amendments are concurred in.\n",
      "1 0 that would generally restrict the amount of mileage a vehicle may be driven to roughly 5,000 miles annually.\n",
      "1 0 The bill designates a minimum on going percentage of ATP funding.\n",
      "1 0 Seeing and hearing and none.\n",
      "1 0 as david to cancel into coolly.\n",
      "1 0 It is with sadness and deep respect that I rise today to adjourn in memory of William Zeke Grader Jr.,\n",
      "1 0 Aye. >> Aye. Lara? >> Aye.\n",
      "1 0 Yes, I'm happy to.\n",
      "1 0 She has spent seven years as a deckhand and third mate working for several shipping lines.\n",
      "1 0 Thank you. >> So in the staff report it says that, this is page three at the bottom.\n",
      "1 0 Colleagues if I could ask you to please take your seats and keep your conversations to a minimum, thank you.\n",
      "1 0 And we went from that case to a decision 150 years later, that corporations are people.\n",
      "1 0 ...assembly moments are concurred in.\n",
      "1 0 Nobody has asked that question.\n",
      "1 0 And we ask respectfully for support of this measure in order that these provisions are reenacted.\n",
      "1 0 Mr. Williams, you are recognized.\n",
      "1 0 Ayes 67, noes 0.\n",
      "1 0 There are 65 coauthors added.\n",
      "1 0 And he'll tell you stuff too.\n",
      "1 0 Jazmine Gordon with the California Black Health Network in support.\n",
      "1 0 their children marie and congressman ed royce of fullerton ...\n",
      "1 0 principle associate director for the weapons program where he oversaw the director\n",
      "1 0 volunteers to ask you to support the PNA.\n",
      "1 0 She wouldn't have had another chemotherapy to sacrifice her ovaries and bone marrow suppression.\n",
      "1 0 When we rescue a dog from this life of fear and violence, we hope it is the start of a new beginning for them.\n",
      "1 0 and to all who have fought to protect our country both in times of war and in times of peace.\n",
      "1 0 And essentially go over kind of the highlights for you.\n",
      "1 0 They didn't do anything, they didn't report it for several hours, which is,\n",
      "1 0 Jim Lindberg on behalf of the Friend's Committee on Legislation of California.\n",
      "1 0 But I would like to see the Cuban people given the freedom that\n",
      "1 0 Joe Devino on behalf of the Personal Care.\n",
      "1 0 Seven to one.\n",
      "1 0 The Los Angeles study, which was the same thing.\n",
      "1 0 lowest income households without access to affordable housing.\n",
      "1 0 So, if we go in 100% whole hog, likely, this isn't going to go anywhere.\n",
      "1 0 We're not on any kind of deadline.\n",
      "1 0 their sacrifice on the floor today and to recognize the US navy\n",
      "1 0 And I was honored to be able to work side by side with her, along with the incredible team from California Human Development, to found the Fulton Day Labor Center.\n",
      "1 0 local governments and other interests into an undergrounding program.\n",
      "1 0 This will save health plan's money.\n",
      "1 0 To put it simply, they are in dire financial crisis, which puts the water supply for\n",
      "1 0 The purpose of this involuntary commitment is to provide for a prompt evaluation.\n",
      "1 0 Aye. >> Aye, Runner, Stone.\n",
      "1 0 Mr. Quirk, Mr. Quirk has another bill.\n",
      "1 0 Knows twenty-five cent amendments are concurred in file\n",
      "1 0 we're watching the affairs.\n",
      "1 0 There will be a reception in honor of the fellows in the Rules Committee patio that will begin immediately.\n",
      "1 0 The most recent set of amendments brings us to a full support position.\n",
      "1 0 we're encouraged by the level of consensus in the pet owner community and\n",
      "1 0 a big firm who said their motto was justice delayed is justice and we have to try to address those problems.\n",
      "1 0 Aye. >> Aye, Lara? >> Aye.\n",
      "1 0 File item 50 is Senate Bill 324.\n",
      "1 0 you hired somebody else who happens to be a male at a salary that's ten or\n",
      "1 0 The price tag is lower and it goes to the families that really can't help their kids with buying the diapers in order to get them into daycare.\n",
      "1 0 Thousands of local businesses, community base conservation partnerships and\n",
      "1 0 chaplain system michelle gorman after which please remain standing we will be\n",
      "1 0 I would just like to remind him that this bill has carefully studied the impacts of those fish who occupy this region, and\n",
      "1 0 Are there speakers in opposition?\n",
      "1 0 You see, if we were doing our job, then citizens wouldn't feel obligated\n",
      "1 0 And the problem's getting worse.\n",
      "1 0 Right. >> And essentially what appears to me is that,\n",
      "1 0 If passed, 813 will not automatically vacate convictions.\n",
      "1 0 and required that lead safe work practices be used to remove it.\n",
      "1 0 Calderon.\n",
      "1 0 I met and incredible women by the name of no name.\n",
      "1 0 inconsistencies and smooth out\n",
      "1 0 Is walter and we believe that the surgeons are distributing the\n",
      "1 0 I think rate pairs have made a considerable investment.\n",
      "1 0 We are a member of CAMEO, and I'm speaking today on their behalf.\n",
      "1 0 inflation as well as the increasing cost and postage?\n",
      "1 0 Well, in the first place, to trigger the second year of 4850 time remember,\n",
      "1 0 Assembly Joint Resolution 23 by Assembly member Bonilla relative to Title IX.\n",
      "1 0 to hold hearings to confirm or deny a Democrat president's nominations.\n",
      "1 0 such violations, including violations per day, but that's not actually how this bill is written, in fact, it's not how it's written at all.\n",
      "1 0 Huff, Jackson, Lara, Leno, Leyva,\n",
      "1 0 that money belongs to the bond buyer and not a transportation authority.\n",
      "1 0 At this point at least, in our communication with the department, they're not recognizing those cost pressures.\n",
      "1 0 There's an exceptional amount of effort going into ensuring that we are working on this issue, and\n",
      "1 0 reporting, contracts, and program and fiscal audits.\n",
      "1 0 Senate Bill 307 by Senator Pavley.\n",
      "1 0 the state to update its standards, but today we're talking specifically about the arts.\n",
      "1 0 And maybe the more seasoned arbitration lawyer in there would say, sure, we have no problem.\n",
      "1 0 construct at a substation to defer maintenance on the substation.\n",
      "1 0 that messages we will be united\n",
      "1 0 And we did that last week and after that meeting we did take an opposed position and let me tell you why.\n",
      "1 0 Next is Assemblymember Waldron's AB 2269 file item 31.\n",
      "1 0 Even a member from Hayward, I'm sure has at least one member who owns a weapon in his district.\n",
      "1 0 He is joined here today by his wife, Rhonda, who just last week retired from the Fairfield Unified School District.\n",
      "1 0 appointment to some position under Governor Jerry Brown.\n",
      "1 0 We know this is a problem.\n",
      "1 0 4-2, we'll keep that item open.\n",
      "1 0 Nguyen no. >> Runner no.\n",
      "1 0 when a contract award can be vacated in the code of civil procedure.\n",
      "1 0 But for new workers that are coming on board, we need the ongoing training where they can be able to better assess the situation and diagnosis.\n",
      "1 0 ...to inhumane conditions and diseases by paul pots\n",
      "1 0 to patients receiving outpatient services, but\n",
      "1 0 forbid a specific ethnic group, namely the Chinese,\n",
      "1 0 He was first elected as Business Agent for his union back in 2000 and\n",
      "1 0 So if I have three trucks that I bought and I'm making payments on and\n",
      "1 0 the California state preschool program by returning to previous\n",
      "1 0 But it's more term of art in the transit industry, as opposed to the term unladen, which we don't really use.\n",
      "1 0 Let's go to witnesses in support.\n",
      "1 0 Actually, we're all just talking about the same bill.\n",
      "1 0 I love the minority party sometimes likes to stop history when Lincoln became president.\n",
      "1 0 or race and it impacts the communities in which we all live and all represent.\n",
      "1 0 regulator has to be able to quote, veto or modify the action.\n",
      "1 0 And those who simply wish to augment their paychecks.\n",
      "1 0 and a seven page arbitration agreement they titled an Employee Dispute Resolution Program.\n",
      "1 0 for only hope is that the public can watch the testimonies and make use\n",
      "1 0 and the Bill's been limited, significantly to these two instances, it's a good measure.\n",
      "1 0 Students have a right to know if their schools are requesting these exemptions.\n",
      "1 0 ...secretary ...the wrong alan hi anderson.\n",
      "1 0 the majority child care places do not let you drop off your child without a full supply of a days worth of diapers, which for most again is ten diapers per day.\n",
      "1 0 we ended up having to put all kinds of signs around campus.\n",
      "1 0 Currently, the bill sets out two standards, one lower, one higher, and the more sensitive documents are under the higher standard.\n",
      "1 0 AB 1665 affords Contra Costa County residents,\n",
      "1 0 which that wasn't necessarily in place across the board especially with the six facilities before.\n",
      "1 0 First, it would better protect the identities of human trafficking survivors by adding an exemption to the public records act.\n",
      "1 0 calculation and reporting of ambulance, patient off-load times.\n",
      "1 0 I'm here in support of AB 2374, as indicated previously,\n",
      "1 0 and the Vice Chair is ready to go, what this means.\n",
      "1 0 Thank you, members, again, just a reminder that says the Department of Finance has approved payment of these claims,\n",
      "1 0 name given to the new year in the persian calendar notices an ancestral\n",
      "1 0 Additionally, California is number one in employment by subsidiaries of Japanese companies.\n",
      "1 0 ...the harper hernandez hold in\n",
      "1 0 due to the unusually high amount of measures that will likely qualify for the 2016 bowing.\n",
      "1 0 participation in the medical board's now defunct confidential diversion program.\n",
      "1 0 project designed to explore...benefits of trucking\n",
      "1 0 We have a complex system, we have complex institutions, and we have a lack of foundational research often that can tell us often what the problems are.\n",
      "1 0 introduce the first lady from the ...freemont.\n",
      "1 0 We're going to return to file item 11, FCR 103.\n",
      "1 0 scope of any proposal to spend utility customer money on criminal defense.\n",
      "1 0 firm ...corrects a technical drafting error related to the\n",
      "1 0 And a vote for this bill today would essentially deny any public access to this footage.\n",
      "1 0 meaningful and respectful way so that every adult has the\n",
      "1 0 or the Chair, or even a majority of this chamber can overrule the express\n",
      "1 0 his adorable granddaughter whom I met this past Saturday at the service for John Howard Sullivan.\n",
      "1 0 at some point they actually do have to move out of the road way so as to not have vehicles be essentially backing up behind them.\n",
      "1 0 A lot contracts for maintenance at stake and management companies.\n",
      "1 0 And I won't rehash what Mr. Bloom said from his obituary.\n",
      "1 0 it's something that we would be happy, we did it in the past for, what ten years?\n",
      "1 0 And file item 32, AB 465, the clerk will read.\n",
      "1 0 I too rise today sadly in memory of Steven Browning Sample.\n",
      "1 0 So it's not something you need an advanced degree to complete.\n",
      "1 0 The clerk will close the roll and tally the votes.\n",
      "1 0 Just to share a few, in Goleta, California, a four-year-old boy with special needs was left alone on a bus or hours.\n",
      "1 0 this bill is creating many winners and many losers.\n",
      "1 0 Thank you, Mister Speaker, SB 405 makes technical changes worked out in consultation\n",
      "1 0 green house gas emissions at the same time, accelerating the retirement of older and high polluting vehicles.\n",
      "1 0 putting it in front of the governor is hopes of initiating the interest of getting this committee or this commission up and going.\n",
      "1 0 This is a great option particularly for\n",
      "1 0 Aye, Berryhill, aye, Block?\n",
      "1 0 And their first report, which does include recommendations, is not due until September.\n",
      "1 0 While obtaining my Bachelor's degree in history, I joined the pre-credential program and was able to earn an exemption for the CSET subject exam.\n",
      "1 0 And many of the services are punitive and judgmental.\n",
      "1 0 And as, I'm sure you realize that 3D printed guns and\n",
      "1 0 not to have second hand smoke, and other activities be prevalent.\n",
      "1 0 We actually estimate slightly higher just due to certain minor differences in assumptions that we make.\n",
      "1 0 I'm very proud to see the woman of AKA here to day.\n",
      "1 0 And most of us in obstetrics and gynecology know, number one,\n",
      "1 0 ayes 53, noes 13 measure passes.\n",
      "1 0 is complaints from individuals from lack of access.\n",
      "1 0 the right health information that they\n",
      "1 0 Now after careful review, the rules committee has determined the restrictions outlined\n",
      "1 0 a lot of folks know that Mervin Fields spent that time in an orphanage.\n",
      "1 0 I return it back to you, Mr. Chairman.\n",
      "1 0 They're also responsible for the close captioning on television screens, and if any of you folks are like me,\n",
      "1 0 Get ammunition and guns, but that's not where the gang members build their arsenals, ladies and gentlemen.\n",
      "1 0 He said there analyses released in August.\n",
      "1 0 ...I always felt that the most outstanding well-managed city financially was\n",
      "1 0 Pleased to be here, thank you for your time.\n",
      "1 0 I would respectfully ask for an aye vote, and thank you again, manager.\n",
      "1 0 This bill would provide an additional year of benefits in those few cases where an officer has received injuries so severe,\n",
      "1 0 ...the bureau of medical marijuana regulation the appointment will be subject\n",
      "1 0 That we are going to have the ability to have that discussion,\n",
      "1 0 we've really tried to demonstrate accountability for the money that we're getting.\n",
      "1 0 This would serve the 47 to $76,000 range.\n",
      "1 0 Yes Mr. Chair thank you.\n",
      "1 0 to make their concern, and to render justice in the situation when this questions come up.\n",
      "1 0 And other witnesses after this step forward.\n",
      "1 0 identify and produce those called for the subpoenas and search warrants.\n",
      "1 0 and that you preserve our ability to rightfully recover the portion that we are able to recover, by charging the facility fee.\n",
      "1 0 Specifically AB 863, does two things.\n",
      "1 0 interactions being indistinguishable from other peers.\n",
      "1 0 differently from individuals suffering from alcoholism.\n",
      "1 0 So, uniting state parks and all these other programs that are available, we haven't done enough to do that.\n",
      "1 0 ...percent SC art twenty-six.\n",
      "1 0 And more clean energy while moving the state forward in it's goals to build a cleaner healthier electricity system.\n",
      "1 0 Yes, he was started [UNKNOWN].\n",
      "1 0 Obviously, we worked together, Senator, for the four years, and the clarified technical amendments, as well.\n",
      "1 0 And this is significant in light of the overall costs of the project.\n",
      "1 0 As prescription drug costs rise, the limits access to medication that can dramatically improve a patient's life, or even save it.\n",
      "1 0 Diapers are a fixed monthly expense for families that cost up to about $100 per child.\n",
      "1 0 The first is the short lived climate pollutant and post 20 20 proposals.\n",
      "1 0 And he stood there on his dichondra lawn, which I didn't even think they existed anymore, in this beautiful lawn in Rancho Cordova.\n",
      "1 0 So we do have a motion on the Consent Calendar, please call the role on the consent calendar.\n",
      "1 0 Senator Mitchell moves to call.\n",
      "1 0 And to re victimize victims is the wrong path.\n",
      "1 0 And let's speak to that this is only a small safety net.\n",
      "1 0 Properties we seized and lives we tragically altered forever.\n",
      "1 0 This is a very basic bill that just says if you have a single use, then it should be for everybody.\n",
      "1 0 So, the information obviously is quite valuable.\n",
      "1 0 to acknowledge the statement he made in his speech about his committment around child poverty.\n",
      "1 0 at the peak of the Valley Fire 48 acres were burning every minute.\n",
      "1 0 ...today to honor ...jerry horton\n",
      "1 0 And the other programs are kind of being added on to its back, can be evaluated on their own merits.\n",
      "1 0 I would also like to thank your staff for their gracious assistance in helping us craft this proposal before you today.\n",
      "1 0 We share very deep cultural and social ties with our southern neighbor but\n",
      "1 0 I respectfully ask for your aye vote.\n",
      "1 0 I would be honored to have your support here today, the great senator from Orange County.\n",
      "1 0 But more importantly, with the conversation today, is that we're looking at from\n",
      "1 0 they'd have to go to the back of the bus, push the button to deactivate the system.\n",
      "1 0 Trevani Defrie, resident physician at San Francisco General Hospital, in support.\n",
      "1 0 In the interest of time, I'm going to defer the rest of my time to Tonya McMillan, one of our members but can be available for questions, thank you.\n",
      "1 0 Webber? 6 to 0.\n",
      "1 0 You truly are a microcosm because you have the whole gamut from highest tech to agriculture.\n",
      "1 0 904 will help get the\n",
      "1 0 In 1996, Carol Micton was the sole candidate of an election to replace Willie Brown.\n",
      "1 0 I'm in AT&T's regulatory affairs group and I've been working with the CPUC for\n",
      "1 0 All debate having ceased, Mr. Secretary, please call the roll.\n",
      "1 0 And this problem is being made worse and worse as our values are beginning to diverge as well.\n",
      "1 0 And hopefully, it also keep them safer as well.\n",
      "1 0 with the price of food, in particular soaring rents and the cost of gas,\n",
      "1 0 collect in the health and education space information and data regarding these additional categories.\n",
      "1 0 Lowe aye. Olsen.\n",
      "1 0 because I want to encourage entrepreneurialism here in the state of California.\n",
      "1 0 I respectfully request that the amendments be adopted, the bill will be sent out to print and be placed back in the file.\n",
      "1 0 Relative to National Health Awareness month.\n",
      "1 0 And with the proper training and maybe some more deterrent or\n",
      "1 0 AB 759 by Assembly member Lender clarify's the operations of the new motor vehicle board and\n",
      "1 0 Linder, aye.\n",
      "1 0 I think we know that there have not been difficulties with regard to the way that these bids have been put forward\n",
      "1 0 This was intended to reduce fraud and abuse, however this requirement has not worked the way we intended.\n",
      "1 0 Bloom, Bonilla, Bonta, Brough, Brown, Burke.\n",
      "1 0 So the bottom line is, bad law, unnecessary law, law that conflicts with considered California decisions.\n",
      "1 0 ...record thank you mr speaker it's my pleasure to introduce in the back of\n",
      "1 0 up to nine months afterwards, and I had to threaten some of the creditors that were pursuing\n",
      "1 0 An unbelievable amount of natural gas is escaping into the atmosphere.\n",
      "1 0 And that, of course, was because of the contamination with this leak.\n",
      "1 0 I believe there's a companion bill on your side on those guns which kind of identifies it Mr. Gibson.\n",
      "1 0 Pi he'll.\n",
      "1 0 So, the unit itself is never without work, if that makes sense, unless we go on a long streak without disasters.\n",
      "1 0 We want laws that work.\n",
      "1 0 Good morning, Jennifer Baker with the California Teachers Association in strong support.\n",
      "1 0 She was also lifetime member of the Riverside African American Historical Society.\n",
      "1 0 contest their entry in the database and request a formal hearing to remove that designation.\n",
      "1 0 and california music service or helpful to a wide range of individuals\n",
      "1 0 I can tell you when I read that we had a Nazi demonstration here on\n",
      "1 0 So we're still working through how do we set some base level of services before an incentive payment kicks in.\n",
      "1 0 We are unfortunately opposed to the bill.\n",
      "1 0 Hi, I'm Jacqueline Zenoski, and I'm from Disability Rights California.\n",
      "1 0 folks, other Folks in the, have tried to lobby\n",
      "1 0 I just wanted to see, if there were any other goals or objectives that you would like us to be doing with this legislation.\n",
      "1 0 $400,000 in assistance for urban retail water suppliers to validate audit criteria data.\n",
      "1 0 Watching as the recession has faded, albeit good, we still need to be cautious, this is a responsible approach.\n",
      "1 0 can't comprehensive ...to make sure that we do the right thing for constituents.\n",
      "1 0 And, define senator from beverly hills for what purpose theorize.\n",
      "1 0 in developmental centers and the\n",
      "1 0 They had that information they would have probably gone to imdb.com.\n",
      "1 0 essential to make sure That these retirement plans keep their solvency and\n"
     ]
    }
   ],
   "source": [
    "wrong = 0\n",
    "missed_transition = 0\n",
    "for i in range(len(predictions)):\n",
    "    if predictions[i] != y_test.iloc[i]:\n",
    "        wrong= wrong+1\n",
    "        print(predictions[i],y_test.iloc[i],x_test.iloc[i])\n",
    "        if predictions[i] == 0:\n",
    "            missed_transition = missed_transition +1 "
   ]
  },
  {
   "cell_type": "code",
   "execution_count": 153,
   "metadata": {},
   "outputs": [
    {
     "name": "stdout",
     "output_type": "stream",
     "text": [
      "787\n",
      "389\n",
      "0.49428208386277\n"
     ]
    }
   ],
   "source": [
    "print(wrong)\n",
    "print(missed_transition)\n",
    "print(missed_transition/wrong)\n"
   ]
  },
  {
   "cell_type": "markdown",
   "metadata": {},
   "source": [
    "## Notes\n",
    "3 epochs seems to be the sweet spot\n",
    "\n",
    "(using 6 times more non transitions)\n",
    "\n",
    "model 1: 1 epochs, adam optimzer, class weights(0:1,1:6)\n",
    "accuracy score: 58.06%, (61% guessed 0 when correct was 1)\n",
    "\n",
    "model 1: 4 epochs, adam optimzer, class weights(0:1,1:6)\n",
    "accuracy score: 53.46%, (72% guessed 0 when correct was 1)\n",
    "\n",
    "model 1: 10 epochs, adam optimzer, class weights (0:1,1:6)\n",
    "accuracy score: 53.31%, (61% guessed 0 when correct was 1)\n",
    "\n",
    "model 1: 15 epochs, adam optimzer, class weights (0:1,1:6)\n",
    "accuracy score: 53.15%, (71% guessed 0 when correct was 1)\n",
    "\n",
    "model 1: 20 epochs, adam optimzer, class weights (0:1,1:6)\n",
    "accuracy score: 51.36%, (69% guessed 0 when correct was 1)\n",
    "\n",
    "model 1: 25 epochs, adam optimzer, class weights (0:1,1:6)\n",
    "accuracy score: 52.83%, (67% guessed 0 when correct was 1)\n",
    "\n",
    "model 1: 30 epochs, adam optimzer, class weights (0:1,1:6)\n",
    "accuracy score: 51.65%, (73% guessed 0 when correct was 1)\n",
    "\n",
    "model 1: 1 epochs, rmsprop, class weights (0:1,1:6)\n",
    "accuracy score: 45.5%, (74% guessed 0 when correct was 1)\n",
    "\n",
    "###model 2 \n",
    "\n",
    "1 epoch, adam\n",
    "accuracy score: 51.4%, (67.8% guessed 0 when correct was 1)\n",
    "\n",
    "4 epochs, adam\n",
    "accuracy score: 52.0%, (71.8% guessed 0 when correct was 1\n"
   ]
  },
  {
   "cell_type": "markdown",
   "metadata": {
    "collapsed": true
   },
   "source": [
    "### model1 \n",
    "model = Sequential()\n",
    "model.add(Embedding(20000, 150, input_length=44))\n",
    "model.add(Conv1D(64, 5, activation='relu'))\n",
    "model.add(MaxPooling1D(pool_size=4))\n",
    "model.add(LSTM(150, dropout=0.2, recurrent_dropout=0.5))\n",
    "model.add(Dense(2, activation='sigmoid')) #fully connected layer\n",
    "model.compile(loss='binary_crossentropy', optimizer='rmsprop', metrics=['accuracy'])\n",
    "\n",
    "\n",
    "### model2 (remove conv layer and pooling layer)\n",
    "model = Sequential()\n",
    "model.add(Embedding(20000, 150, input_length=44))\n",
    "\n",
    "model.add(LSTM(150, dropout=0.2, recurrent_dropout=0.5))\n",
    "model.add(Dense(2, activation='sigmoid')) #fully connected layer\n",
    "model.compile(loss='binary_crossentropy', optimizer='adam', metrics=['accuracy'])\n",
    "\n"
   ]
  },
  {
   "cell_type": "markdown",
   "metadata": {
    "collapsed": true
   },
   "source": [
    "## model 3(model 1 with another dense layer) 59% acc on n_range data\n",
    "model = Sequential()\n",
    "model.add(Embedding(20000, 150, input_length=44))\n",
    "model.add(Conv1D(64, 5, activation='relu'))\n",
    "model.add(MaxPooling1D(pool_size=4))\n",
    "model.add(LSTM(150, dropout=0.2, recurrent_dropout=0.5))\n",
    "model.add(Dense(25,activation = 'sigmoid'))\n",
    "model.add(Dense(2, activation='sigmoid')) #fully connected layer\n",
    "model.compile(loss='binary_crossentropy', optimizer='rmsprop', metrics=['accuracy'])\n"
   ]
  },
  {
   "cell_type": "code",
   "execution_count": null,
   "metadata": {
    "collapsed": true
   },
   "outputs": [],
   "source": []
  }
 ],
 "metadata": {
  "anaconda-cloud": {},
  "kernelspec": {
   "display_name": "Python 3",
   "language": "python",
   "name": "python3"
  },
  "language_info": {
   "codemirror_mode": {
    "name": "ipython",
    "version": 3
   },
   "file_extension": ".py",
   "mimetype": "text/x-python",
   "name": "python",
   "nbconvert_exporter": "python",
   "pygments_lexer": "ipython3",
   "version": "3.6.0"
  }
 },
 "nbformat": 4,
 "nbformat_minor": 1
}
