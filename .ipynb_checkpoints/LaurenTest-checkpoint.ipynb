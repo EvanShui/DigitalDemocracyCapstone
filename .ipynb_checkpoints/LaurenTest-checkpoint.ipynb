{
 "cells": [
  {
   "cell_type": "code",
   "execution_count": 1,
   "metadata": {
    "collapsed": true
   },
   "outputs": [],
   "source": [
    "import pandas as pd"
   ]
  },
  {
   "cell_type": "code",
   "execution_count": 2,
   "metadata": {
    "collapsed": true
   },
   "outputs": [],
   "source": [
    "#constants\n",
    "training_output_binary_filename = \"UNDEFINED\"\n",
    "training_output_n_range_filename = \"UNDEFINED\"\n",
    "training_output_n_range_collapsed_filename = \"UNDEFINED\"\n",
    "\n",
    "#configurable values\n",
    "bill_start_end_times_filename = \"UNDEFINED\"\n",
    "\n",
    "with open(\"CONSTANTS\") as constants_file:\n",
    "    for line in constants_file:\n",
    "        line_splits = line.rstrip(\"\\n\").split(\"=\")\n",
    "        \n",
    "        if (line_splits[0] == \"TRAINING_BINARY\"):\n",
    "            training_output_binary_filename = line_splits[1]\n",
    "        elif (line_splits[0] == \"TRAINING_N_RANGE\"):\n",
    "            training_output_n_range_filename = line_splits[1]\n",
    "        elif (line_splits[0] == \"TRAINING_N_RANGE_COLLAPSED\"):\n",
    "            training_output_n_range_collapsed_filename = line_splits[1]\n",
    "\n",
    "with open(\"CONFIG\") as config_file:\n",
    "    for line in config_file:\n",
    "        line_splits= line.rstrip(\"\\n\").split(\"=\")\n",
    "        \n",
    "        if (line_splits[0] == \"BILL_START_END_TIMES\"):\n",
    "            bill_start_end_times_filename = line_splits[1]"
   ]
  },
  {
   "cell_type": "code",
   "execution_count": null,
   "metadata": {
    "collapsed": true
   },
   "outputs": [],
   "source": []
  }
 ],
 "metadata": {
  "kernelspec": {
   "display_name": "Python 3",
   "language": "python",
   "name": "python3"
  },
  "language_info": {
   "codemirror_mode": {
    "name": "ipython",
    "version": 3
   },
   "file_extension": ".py",
   "mimetype": "text/x-python",
   "name": "python",
   "nbconvert_exporter": "python",
   "pygments_lexer": "ipython3",
   "version": "3.5.2"
  }
 },
 "nbformat": 4,
 "nbformat_minor": 2
}
