{
 "cells": [
  {
   "cell_type": "code",
   "execution_count": null,
   "metadata": {
    "collapsed": true
   },
   "outputs": [],
   "source": [
    "import pickle\n",
    "import pandas as pd\n",
    "import numpy as np"
   ]
  },
  {
   "cell_type": "markdown",
   "metadata": {},
   "source": [
    "### Define locations of model and file to predict from."
   ]
  },
  {
   "cell_type": "code",
   "execution_count": null,
   "metadata": {
    "collapsed": true
   },
   "outputs": [],
   "source": [
    "default_model_type = \"NB\"\n",
    "default_model_filename = \"nb_model.p\"\n",
    "default_count_vectorizer_filename = \"nb_count_vect.p\"\n",
    "default_cleaned_raw_filename = \"cleaned_transcript.csv2\""
   ]
  },
  {
   "cell_type": "code",
   "execution_count": null,
   "metadata": {
    "collapsed": false
   },
   "outputs": [],
   "source": [
    "model_type = default_model_type\n",
    "model_filename = default_model_filename\n",
    "count_vectorizer_filename = default_count_vectorizer_filename\n",
    "cleaned_raw_filename = default_cleaned_raw_filename"
   ]
  },
  {
   "cell_type": "code",
   "execution_count": null,
   "metadata": {
    "collapsed": true
   },
   "outputs": [],
   "source": [
    "THRESHOLD_PROBABILITY = .5"
   ]
  },
  {
   "cell_type": "markdown",
   "metadata": {},
   "source": [
    "### Define model prediction strategies."
   ]
  },
  {
   "cell_type": "code",
   "execution_count": null,
   "metadata": {
    "collapsed": false
   },
   "outputs": [],
   "source": [
    "def predict_entire_transcript(transcripts, model, count_vect):\n",
    "    transcripts_test = count_vect.transform(transcripts['text'])\n",
    "    \n",
    "    probs = model.predict_proba(transcripts_test)\n",
    "    preds = [1 if p[1] > THRESHOLD_PROBABILITY else 0 for p in probs]\n",
    "    \n",
    "    assert len(preds) == transcripts_test.shape[0]\n",
    "    \n",
    "    return preds"
   ]
  },
  {
   "cell_type": "code",
   "execution_count": null,
   "metadata": {
    "collapsed": true
   },
   "outputs": [],
   "source": [
    "def predict_from_naive_bayes():\n",
    "    model = pickle.load(open(model_filename, \"rb\"))\n",
    "    count_vect = pickle.load(open(count_vectorizer_filename, \"rb\"))\n",
    "    transcript = pd.read_csv(cleaned_raw_filename, sep=\"~\")\n",
    "    #transcript = transcript[transcript[\"video_id\"]==4161]\n",
    "\n",
    "    prediction_values = predict_entire_transcript(transcript, model, count_vect)\n",
    "    transcript[\"prediction\"] = prediction_values\n",
    "    predicted_transitions = transcript[transcript[\"prediction\"]==1]\n",
    "    transition_dictionary = predicted_transitions[[\"start\", \"end\", \"video_id\"]].to_dict(orient=\"records\")\n",
    "    \n",
    "    return transition_dictionary"
   ]
  },
  {
   "cell_type": "code",
   "execution_count": null,
   "metadata": {
    "collapsed": false
   },
   "outputs": [],
   "source": [
    "def predict_from_neural_network():\n",
    "    pass"
   ]
  },
  {
   "cell_type": "markdown",
   "metadata": {},
   "source": [
    "### Predict from models."
   ]
  },
  {
   "cell_type": "code",
   "execution_count": null,
   "metadata": {
    "collapsed": false
   },
   "outputs": [],
   "source": [
    "def predict(model_type):\n",
    "    transition_dictionary = {}\n",
    "\n",
    "    if (model_type == \"NB\"):\n",
    "        transition_dictionary = predict_from_naive_bayes()\n",
    "    elif (model_type == \"NN\"):\n",
    "        raise Exception(\"Neural network not supported yet.\")\n",
    "        predict_from_neural_network()\n",
    "    else:\n",
    "        raise Exception(\"Model type not defined.\")\n",
    "        \n",
    "    return transition_dictionary"
   ]
  },
  {
   "cell_type": "code",
   "execution_count": null,
   "metadata": {
    "collapsed": false
   },
   "outputs": [],
   "source": [
    "x = predict(\"NB\")"
   ]
  }
 ],
 "metadata": {
  "kernelspec": {
   "display_name": "Python 3",
   "language": "python",
   "name": "python3"
  },
  "language_info": {
   "codemirror_mode": {
    "name": "ipython",
    "version": 3
   },
   "file_extension": ".py",
   "mimetype": "text/x-python",
   "name": "python",
   "nbconvert_exporter": "python",
   "pygments_lexer": "ipython3",
   "version": "3.5.2"
  }
 },
 "nbformat": 4,
 "nbformat_minor": 2
}
