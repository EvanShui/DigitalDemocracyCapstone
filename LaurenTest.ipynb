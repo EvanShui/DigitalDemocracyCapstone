{
 "cells": [
  {
   "cell_type": "code",
   "execution_count": 1,
   "metadata": {
    "collapsed": true
   },
   "outputs": [],
   "source": [
    "import pandas as pd"
   ]
  },
  {
   "cell_type": "code",
   "execution_count": 5,
   "metadata": {
    "collapsed": true
   },
   "outputs": [],
   "source": [
    "#constants\n",
    "training_output_binary_filename = \"UNDEFINED\"\n",
    "training_output_n_range_filename = \"UNDEFINED\"\n",
    "training_output_n_range_collapsed_filename = \"UNDEFINED\"\n",
    "\n",
    "#configurable values\n",
    "bill_start_end_times_filename = \"UNDEFINED\"\n",
    "\n",
    "with open(\"CONSTANTS\") as constants_file:\n",
    "    for line in constants_file:\n",
    "        line_splits = line.rstrip(\"\\n\").split(\"=\")\n",
    "        \n",
    "        if (line_splits[0] == \"TRAINING_BINARY\"):\n",
    "            training_output_binary_filename = line_splits[1]\n",
    "        elif (line_splits[0] == \"TRAINING_N_RANGE\"):\n",
    "            training_output_n_range_filename = line_splits[1]\n",
    "        elif (line_splits[0] == \"TRAINING_N_RANGE_COLLAPSED\"):\n",
    "            training_output_n_range_collapsed_filename = line_splits[1]\n",
    "\n",
    "with open(\"CONFIG\") as config_file:\n",
    "    for line in config_file:\n",
    "        line_splits= line.rstrip(\"\\n\").split(\"=\")\n",
    "        \n",
    "        if (line_splits[0] == \"BILL_START_END_TIMES\"):\n",
    "            bill_start_end_times_filename = line_splits[1]"
   ]
  },
  {
   "cell_type": "code",
   "execution_count": 9,
   "metadata": {
    "collapsed": false
   },
   "outputs": [],
   "source": [
    "n_range = pd.read_csv(training_output_binary_filename, sep=\"~\")"
   ]
  },
  {
   "cell_type": "code",
   "execution_count": 10,
   "metadata": {
    "collapsed": false
   },
   "outputs": [],
   "source": [
    "n= 3"
   ]
  },
  {
   "cell_type": "code",
   "execution_count": 14,
   "metadata": {
    "collapsed": true
   },
   "outputs": [],
   "source": [
    "transition_indexes = n_range.index[n_range[\"transition_value\"] == 1].tolist()\n",
    "new_transition_indexes = []\n",
    "\n",
    "length = len(n_range)\n",
    "for i in transition_indexes:\n",
    "    for x in range(-n, n+1):\n",
    "        if (i + x >= 0 and i + x < length):\n",
    "            new_transition_indexes.append(i + x)"
   ]
  },
  {
   "cell_type": "code",
   "execution_count": 15,
   "metadata": {
    "collapsed": false
   },
   "outputs": [
    {
     "data": {
      "text/plain": [
       "656444"
      ]
     },
     "execution_count": 15,
     "metadata": {},
     "output_type": "execute_result"
    }
   ],
   "source": [
    "len(n_range)"
   ]
  },
  {
   "cell_type": "code",
   "execution_count": 16,
   "metadata": {
    "collapsed": true
   },
   "outputs": [],
   "source": [
    "n_range = pd.read_csv(training_output_n_range_filename, sep=\"~\")"
   ]
  },
  {
   "cell_type": "code",
   "execution_count": 19,
   "metadata": {
    "collapsed": false
   },
   "outputs": [
    {
     "data": {
      "text/plain": [
       "27094"
      ]
     },
     "execution_count": 19,
     "metadata": {},
     "output_type": "execute_result"
    }
   ],
   "source": [
    "sum(n_range[\"transition_value\"]==1)"
   ]
  },
  {
   "cell_type": "code",
   "execution_count": null,
   "metadata": {
    "collapsed": true
   },
   "outputs": [],
   "source": []
  }
 ],
 "metadata": {
  "kernelspec": {
   "display_name": "Python 3",
   "language": "python",
   "name": "python3"
  },
  "language_info": {
   "codemirror_mode": {
    "name": "ipython",
    "version": 3
   },
   "file_extension": ".py",
   "mimetype": "text/x-python",
   "name": "python",
   "nbconvert_exporter": "python",
   "pygments_lexer": "ipython3",
   "version": "3.5.2"
  }
 },
 "nbformat": 4,
 "nbformat_minor": 2
}
