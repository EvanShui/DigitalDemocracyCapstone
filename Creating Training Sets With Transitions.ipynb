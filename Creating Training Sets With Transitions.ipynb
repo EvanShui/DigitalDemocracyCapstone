{
 "cells": [
  {
   "cell_type": "code",
   "execution_count": null,
   "metadata": {
    "collapsed": true
   },
   "outputs": [],
   "source": [
    "import pandas as pd"
   ]
  },
  {
   "cell_type": "code",
   "execution_count": null,
   "metadata": {
    "collapsed": true
   },
   "outputs": [],
   "source": [
    "#constants\n",
    "training_output_binary_filename = \"UNDEFINED\"\n",
    "training_output_n_range_filename = \"UNDEFINED\"\n",
    "training_output_n_range_collapsed_filename = \"UNDEFINED\"\n",
    "\n",
    "#configurable values\n",
    "cleaned_raw_filename = \"UNDEFINED\"\n",
    "bill_start_end_times_filename = \"UNDEFINED\"\n",
    "\n",
    "with open(\"CONSTANTS\") as constants_file:\n",
    "    for line in constants_file:\n",
    "        line_splits = line.rstrip(\"\\n\").split(\"=\")\n",
    "        \n",
    "        if (line_splits[0] == \"TRAINING_BINARY\"):\n",
    "            training_output_binary_filename = line_splits[1]\n",
    "        elif (line_splits[0] == \"TRAINING_N_RANGE\"):\n",
    "            training_output_n_range_filename = line_splits[1]\n",
    "        elif (line_splits[0] == \"TRAINING_N_RANGE_COLLAPSED\"):\n",
    "            training_output_n_range_collapsed_filename = line_splits[1]\n",
    "            \n",
    "with open(\"CONFIG\") as config_file:\n",
    "    for line in config_file:\n",
    "        line_splits= line.rstrip(\"\\n\").split(\"=\")\n",
    "        \n",
    "        if (line_splits[0] == \"WHICH_CLEANED_RAW\"):\n",
    "            cleaned_raw_filename = line_splits[1]\n",
    "        elif (line_splits[0] == \"WHICH_BILL_START_END_TIMES\"):\n",
    "            bill_start_end_times_filename = line_splits[1]"
   ]
  },
  {
   "cell_type": "markdown",
   "metadata": {},
   "source": [
    "# Mark Transition Lines (Binary)"
   ]
  },
  {
   "cell_type": "code",
   "execution_count": null,
   "metadata": {
    "collapsed": true
   },
   "outputs": [],
   "source": [
    "def get_transition_value(line, bill_start_time, bill_end_time):\n",
    "    utterance_start_time = int(line.split(\"~\")[0])\n",
    "    utterance_end_time = int(line.split(\"~\")[1])\n",
    "    \n",
    "    if (utterance_end_time > bill_start_time and bill_end_time > utterance_start_time):\n",
    "        return 1\n",
    "    else:\n",
    "        return 0"
   ]
  },
  {
   "cell_type": "code",
   "execution_count": null,
   "metadata": {
    "collapsed": true
   },
   "outputs": [],
   "source": [
    "def mark_transition_lines(raw, bill_times, out):\n",
    "    bill_times_splits = bill_times.readline().split(\"~\")\n",
    "    for line in raw:\n",
    "        transition_value = get_transition_value(line, int(bill_times_splits[3]), int(bill_times_splits[4]))\n",
    "        if (transition_value == 1):\n",
    "            bill_line = bill_times.readline()\n",
    "            if (bill_line == \"\"):\n",
    "                bill_times_splits = [-1, -1, -1, -1, -1, -1]\n",
    "            else:\n",
    "                bill_times_splits = bill_line.split(\"~\")\n",
    "            \n",
    "        out.write(line.rstrip('\\n') + \"~\" + str(transition_value))"
   ]
  },
  {
   "cell_type": "code",
   "execution_count": null,
   "metadata": {
    "collapsed": true
   },
   "outputs": [],
   "source": [
    "with open(cleaned_raw_filename, 'r') as raw:\n",
    "    with open(bill_start_end_times_filename, 'r') as bill_times:\n",
    "        with open(training_output_binary_filename, 'w') as out:\n",
    "            #consume/write headings\n",
    "            raw.readline()\n",
    "            bill_times.readline()\n",
    "            out.write(\"start~end~text~video_id~transition_value\\n\")\n",
    "            \n",
    "            #mark the transitions\n",
    "            mark_transition_lines(raw, bill_times, out)"
   ]
  },
  {
   "cell_type": "markdown",
   "metadata": {},
   "source": [
    "# Mark Transition Lines (Tertiary)"
   ]
  },
  {
   "cell_type": "markdown",
   "metadata": {},
   "source": [
    "# Mark Transition Lines (N Range)"
   ]
  },
  {
   "cell_type": "code",
   "execution_count": null,
   "metadata": {
    "collapsed": true
   },
   "outputs": [],
   "source": [
    "n = 5"
   ]
  },
  {
   "cell_type": "code",
   "execution_count": null,
   "metadata": {
    "collapsed": true
   },
   "outputs": [],
   "source": [
    "n_range = pd.read_csv(training_output_binary_filename, sep=\"~\")"
   ]
  },
  {
   "cell_type": "code",
   "execution_count": null,
   "metadata": {
    "collapsed": true
   },
   "outputs": [],
   "source": [
    "transition_indexes = n_range.index[n_range[\"transition_value\"] == 1].tolist()\n",
    "new_transition_indexes = []\n",
    "\n",
    "length = len(n_range)\n",
    "for i in transition_indexes:\n",
    "    for x in range(-n, n+1):\n",
    "        if (i + x >= 0 and i + x < length):\n",
    "            new_transition_indexes.append(i + x)\n",
    "            \n",
    "n_range.loc[new_transition_indexes, \"transition_value\"] = 1\n",
    "\n",
    "n_range.to_csv(training_output_n_range_filename, sep=\"~\", index=False)"
   ]
  },
  {
   "cell_type": "markdown",
   "metadata": {},
   "source": [
    "# Collapse Transition Lines (N Range)"
   ]
  },
  {
   "cell_type": "code",
   "execution_count": null,
   "metadata": {
    "collapsed": true
   },
   "outputs": [],
   "source": [
    "def collapse_transitions(uncollapsed, collapsed):\n",
    "    accumulated_text = \"\"\n",
    "    accumulating = False\n",
    "    \n",
    "    for line in uncollapsed:\n",
    "        split_line = line.split(\"~\")\n",
    "        transition_value = int(split_line[4])\n",
    "        text = split_line[2] + \" \"\n",
    "        \n",
    "        if transition_value == 1 and accumulating:\n",
    "            accumulated_text = accumulated_text + text\n",
    "        elif transition_value == 1 and not accumulating:\n",
    "            accumulating = True\n",
    "            accumulated_text = accumulated_text + text\n",
    "        elif transition_value == 0 and accumulating:\n",
    "            collapsed.write(split_line[0] + \"~\" + split_line[1] + \"~\" +\n",
    "                            accumulated_text + \"~\" + split_line[3] + \"~1\\n\")\n",
    "            collapsed.write(line)\n",
    "            accumulating = False\n",
    "            accumulated_text = \"\"\n",
    "        else:\n",
    "            collapsed.write(line)"
   ]
  },
  {
   "cell_type": "code",
   "execution_count": null,
   "metadata": {
    "collapsed": true
   },
   "outputs": [],
   "source": [
    "with open(training_output_n_range_filename, 'r') as uncollapsed:\n",
    "    with open(training_output_n_range_collapsed_filename, 'w') as collapsed:\n",
    "        #consume/write headings\n",
    "        h = uncollapsed.readline()\n",
    "        collapsed.write(h)\n",
    "            \n",
    "        #collapse transitions\n",
    "        collapse_transitions(uncollapsed, collapsed)"
   ]
  },
  {
   "cell_type": "markdown",
   "metadata": {},
   "source": [
    "# Verification"
   ]
  },
  {
   "cell_type": "code",
   "execution_count": null,
   "metadata": {
    "collapsed": true
   },
   "outputs": [],
   "source": [
    "binary = pd.read_csv(training_output_binary_filename, sep=\"~\")\n",
    "bill_times = pd.read_csv(bill_start_end_times_filename, sep=\"~\")"
   ]
  },
  {
   "cell_type": "code",
   "execution_count": null,
   "metadata": {
    "collapsed": false
   },
   "outputs": [],
   "source": [
    "assert(len(binary[binary[\"transition_value\"]==1])==len(bill_times))"
   ]
  }
 ],
 "metadata": {
  "kernelspec": {
   "display_name": "Python 3",
   "language": "python",
   "name": "python3"
  },
  "language_info": {
   "codemirror_mode": {
    "name": "ipython",
    "version": 3
   },
   "file_extension": ".py",
   "mimetype": "text/x-python",
   "name": "python",
   "nbconvert_exporter": "python",
   "pygments_lexer": "ipython3",
   "version": "3.5.2"
  }
 },
 "nbformat": 4,
 "nbformat_minor": 2
}
