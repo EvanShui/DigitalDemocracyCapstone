{
 "cells": [
  {
   "cell_type": "code",
   "execution_count": 1,
   "metadata": {
    "collapsed": true
   },
   "outputs": [],
   "source": [
    "import datetime\n",
    "import math\n",
    "import numpy as np\n",
    "import pandas as pd\n",
    "\n",
    "from bs4 import BeautifulSoup"
   ]
  },
  {
   "cell_type": "code",
   "execution_count": 3,
   "metadata": {
    "collapsed": true
   },
   "outputs": [],
   "source": [
    "data_dir = \"/Users/soniamannan/Documents/DATA401/capstone/digitaldemocracy_ds_capstone_2018/\""
   ]
  },
  {
   "cell_type": "code",
   "execution_count": 4,
   "metadata": {
    "collapsed": true
   },
   "outputs": [],
   "source": [
    "original_raw_filename = data_dir + \"dd_capstone_raw_transcripts.txt\"\n",
    "original_upleveled_filename = data_dir + \"dd_capstone_data.txt\"\n",
    "cleaned_raw_filename =data_dir + \"raw.csv\"\n",
    "bill_start_end_times_filename = data_dir + \"bill_start_end_times.csv\""
   ]
  },
  {
   "cell_type": "markdown",
   "metadata": {},
   "source": [
    "# Raw Processing"
   ]
  },
  {
   "cell_type": "code",
   "execution_count": 5,
   "metadata": {
    "collapsed": false
   },
   "outputs": [
    {
     "data": {
      "text/html": [
       "<div>\n",
       "<table border=\"1\" class=\"dataframe\">\n",
       "  <thead>\n",
       "    <tr style=\"text-align: right;\">\n",
       "      <th></th>\n",
       "      <th>video_id</th>\n",
       "      <th>raw_transcript</th>\n",
       "    </tr>\n",
       "  </thead>\n",
       "  <tbody>\n",
       "    <tr>\n",
       "      <th>0</th>\n",
       "      <td>4221</td>\n",
       "      <td>?&lt;?xml version=\"1.0\" encoding=\"utf-8\"?&gt;&lt;tt xml...</td>\n",
       "    </tr>\n",
       "    <tr>\n",
       "      <th>1</th>\n",
       "      <td>4229</td>\n",
       "      <td>?&lt;?xml version=\"1.0\" encoding=\"utf-8\"?&gt;&lt;tt xml...</td>\n",
       "    </tr>\n",
       "    <tr>\n",
       "      <th>2</th>\n",
       "      <td>4228</td>\n",
       "      <td>?&lt;?xml version=\"1.0\" encoding=\"utf-8\"?&gt;&lt;tt xml...</td>\n",
       "    </tr>\n",
       "    <tr>\n",
       "      <th>3</th>\n",
       "      <td>4226</td>\n",
       "      <td>?&lt;?xml version=\"1.0\" encoding=\"utf-8\"?&gt;&lt;tt xml...</td>\n",
       "    </tr>\n",
       "    <tr>\n",
       "      <th>4</th>\n",
       "      <td>4222</td>\n",
       "      <td>?&lt;?xml version=\"1.0\" encoding=\"utf-8\"?&gt;&lt;tt xml...</td>\n",
       "    </tr>\n",
       "  </tbody>\n",
       "</table>\n",
       "</div>"
      ],
      "text/plain": [
       "   video_id                                     raw_transcript\n",
       "0      4221  ?<?xml version=\"1.0\" encoding=\"utf-8\"?><tt xml...\n",
       "1      4229  ?<?xml version=\"1.0\" encoding=\"utf-8\"?><tt xml...\n",
       "2      4228  ?<?xml version=\"1.0\" encoding=\"utf-8\"?><tt xml...\n",
       "3      4226  ?<?xml version=\"1.0\" encoding=\"utf-8\"?><tt xml...\n",
       "4      4222  ?<?xml version=\"1.0\" encoding=\"utf-8\"?><tt xml..."
      ]
     },
     "execution_count": 5,
     "metadata": {},
     "output_type": "execute_result"
    }
   ],
   "source": [
    "raw = pd.read_table(original_raw_filename, sep='~~~~~', engine='python')\n",
    "raw.head()"
   ]
  },
  {
   "cell_type": "code",
   "execution_count": 6,
   "metadata": {
    "collapsed": true
   },
   "outputs": [],
   "source": [
    "# parse a string 00:00:00.470 to hours, minutes, seconds\n",
    "# return time in seconds\n",
    "def parse_time(time):\n",
    "    time = time.split(\":\")\n",
    "    hours = int(time[0])\n",
    "    minutes = int(time[1])\n",
    "    seconds = int(float(time[2])) \n",
    "    \n",
    "    return (hours*360)+(minutes*60)+seconds"
   ]
  },
  {
   "cell_type": "code",
   "execution_count": 7,
   "metadata": {
    "collapsed": false
   },
   "outputs": [],
   "source": [
    "def parse_raw_data(raw):\n",
    "    r = raw['raw_transcript']\n",
    "    ids = raw['video_id']\n",
    "    res = {'start':[], 'end':[], 'text':[], 'video_id': []}\n",
    "    for transcript, vid in zip(r, ids):\n",
    "        soup = BeautifulSoup(transcript, \"lxml\")\n",
    "        letters = soup.find_all(\"p\")\n",
    "\n",
    "        for p in letters[1:]:\n",
    "            res['start'].append(parse_time(p.get('begin')))\n",
    "            res['end'].append(parse_time(p.get('end')))\n",
    "            res['text'].append(p.contents[0])\n",
    "            res['video_id'].append(vid)\n",
    "\n",
    "    tidy = pd.DataFrame(res, columns=['start', 'end', 'text', 'video_id'])\n",
    "    return (tidy)"
   ]
  },
  {
   "cell_type": "code",
   "execution_count": 8,
   "metadata": {
    "collapsed": false
   },
   "outputs": [
    {
     "data": {
      "text/html": [
       "<div>\n",
       "<table border=\"1\" class=\"dataframe\">\n",
       "  <thead>\n",
       "    <tr style=\"text-align: right;\">\n",
       "      <th></th>\n",
       "      <th>start</th>\n",
       "      <th>end</th>\n",
       "      <th>text</th>\n",
       "      <th>video_id</th>\n",
       "    </tr>\n",
       "  </thead>\n",
       "  <tbody>\n",
       "    <tr>\n",
       "      <th>0</th>\n",
       "      <td>0</td>\n",
       "      <td>2</td>\n",
       "      <td>We don't have a quorum yet I don't believe.</td>\n",
       "      <td>4221</td>\n",
       "    </tr>\n",
       "    <tr>\n",
       "      <th>1</th>\n",
       "      <td>6</td>\n",
       "      <td>8</td>\n",
       "      <td>We don't have a quorum yet.</td>\n",
       "      <td>4221</td>\n",
       "    </tr>\n",
       "    <tr>\n",
       "      <th>2</th>\n",
       "      <td>8</td>\n",
       "      <td>13</td>\n",
       "      <td>We'll ask the sergeants to please call the mem...</td>\n",
       "      <td>4221</td>\n",
       "    </tr>\n",
       "    <tr>\n",
       "      <th>3</th>\n",
       "      <td>13</td>\n",
       "      <td>21</td>\n",
       "      <td>that we can establish a quorum for this partic...</td>\n",
       "      <td>4221</td>\n",
       "    </tr>\n",
       "    <tr>\n",
       "      <th>4</th>\n",
       "      <td>21</td>\n",
       "      <td>26</td>\n",
       "      <td>This is the Assembly's 2nd Extraordinary Sessi...</td>\n",
       "      <td>4221</td>\n",
       "    </tr>\n",
       "  </tbody>\n",
       "</table>\n",
       "</div>"
      ],
      "text/plain": [
       "   start  end                                               text  video_id\n",
       "0      0    2        We don't have a quorum yet I don't believe.      4221\n",
       "1      6    8                        We don't have a quorum yet.      4221\n",
       "2      8   13  We'll ask the sergeants to please call the mem...      4221\n",
       "3     13   21  that we can establish a quorum for this partic...      4221\n",
       "4     21   26  This is the Assembly's 2nd Extraordinary Sessi...      4221"
      ]
     },
     "execution_count": 8,
     "metadata": {},
     "output_type": "execute_result"
    }
   ],
   "source": [
    "cleaned_raw = parse_raw_data(raw)\n",
    "cleaned_raw.to_csv(cleaned_raw_filename, sep=\"~\", index=False)\n",
    "cleaned_raw.head()"
   ]
  },
  {
   "cell_type": "markdown",
   "metadata": {},
   "source": [
    "# Upleveled Processing"
   ]
  },
  {
   "cell_type": "code",
   "execution_count": 9,
   "metadata": {
    "collapsed": false
   },
   "outputs": [
    {
     "data": {
      "text/html": [
       "<div>\n",
       "<table border=\"1\" class=\"dataframe\">\n",
       "  <thead>\n",
       "    <tr style=\"text-align: right;\">\n",
       "      <th></th>\n",
       "      <th>bill_id</th>\n",
       "      <th>hearing_id</th>\n",
       "      <th>video_id</th>\n",
       "      <th>video_start_time</th>\n",
       "      <th>video_end_time</th>\n",
       "      <th>speaker_start_time</th>\n",
       "      <th>speaker_end_time</th>\n",
       "      <th>text</th>\n",
       "    </tr>\n",
       "  </thead>\n",
       "  <tbody>\n",
       "    <tr>\n",
       "      <th>0</th>\n",
       "      <td>CA_201520162AB15</td>\n",
       "      <td>539</td>\n",
       "      <td>4221</td>\n",
       "      <td>0</td>\n",
       "      <td>1981</td>\n",
       "      <td>0</td>\n",
       "      <td>2</td>\n",
       "      <td>We don't have a quorum yet I don't believe.</td>\n",
       "    </tr>\n",
       "    <tr>\n",
       "      <th>1</th>\n",
       "      <td>CA_201520162AB15</td>\n",
       "      <td>539</td>\n",
       "      <td>4221</td>\n",
       "      <td>0</td>\n",
       "      <td>1981</td>\n",
       "      <td>6</td>\n",
       "      <td>8</td>\n",
       "      <td>We don't have a quorum yet.</td>\n",
       "    </tr>\n",
       "    <tr>\n",
       "      <th>2</th>\n",
       "      <td>CA_201520162AB15</td>\n",
       "      <td>539</td>\n",
       "      <td>4221</td>\n",
       "      <td>0</td>\n",
       "      <td>1981</td>\n",
       "      <td>8</td>\n",
       "      <td>13</td>\n",
       "      <td>We'll ask the sergeants to please call the mem...</td>\n",
       "    </tr>\n",
       "    <tr>\n",
       "      <th>3</th>\n",
       "      <td>CA_201520162AB15</td>\n",
       "      <td>539</td>\n",
       "      <td>4221</td>\n",
       "      <td>0</td>\n",
       "      <td>1981</td>\n",
       "      <td>13</td>\n",
       "      <td>21</td>\n",
       "      <td>that we can establish a quorum for this partic...</td>\n",
       "    </tr>\n",
       "    <tr>\n",
       "      <th>4</th>\n",
       "      <td>CA_201520162AB15</td>\n",
       "      <td>539</td>\n",
       "      <td>4221</td>\n",
       "      <td>0</td>\n",
       "      <td>1981</td>\n",
       "      <td>21</td>\n",
       "      <td>26</td>\n",
       "      <td>This is the Assembly's 2nd Extraordinary Sessi...</td>\n",
       "    </tr>\n",
       "  </tbody>\n",
       "</table>\n",
       "</div>"
      ],
      "text/plain": [
       "            bill_id  hearing_id  video_id  video_start_time  video_end_time  \\\n",
       "0  CA_201520162AB15         539      4221                 0            1981   \n",
       "1  CA_201520162AB15         539      4221                 0            1981   \n",
       "2  CA_201520162AB15         539      4221                 0            1981   \n",
       "3  CA_201520162AB15         539      4221                 0            1981   \n",
       "4  CA_201520162AB15         539      4221                 0            1981   \n",
       "\n",
       "   speaker_start_time  speaker_end_time  \\\n",
       "0                   0                 2   \n",
       "1                   6                 8   \n",
       "2                   8                13   \n",
       "3                  13                21   \n",
       "4                  21                26   \n",
       "\n",
       "                                                text  \n",
       "0        We don't have a quorum yet I don't believe.  \n",
       "1                        We don't have a quorum yet.  \n",
       "2  We'll ask the sergeants to please call the mem...  \n",
       "3  that we can establish a quorum for this partic...  \n",
       "4  This is the Assembly's 2nd Extraordinary Sessi...  "
      ]
     },
     "execution_count": 9,
     "metadata": {},
     "output_type": "execute_result"
    }
   ],
   "source": [
    "upleveled = pd.read_table(original_upleveled_filename, sep='~~~~~', engine='python')\n",
    "upleveled.head()"
   ]
  },
  {
   "cell_type": "code",
   "execution_count": 10,
   "metadata": {
    "collapsed": true
   },
   "outputs": [],
   "source": [
    "bill_start_times = upleveled.sort_values([\"video_id\", \"hearing_id\", \"bill_id\", \"speaker_start_time\"]).groupby([\"bill_id\", \"hearing_id\", \"video_id\"]).head(1)\n",
    "bill_end_times = upleveled.sort_values([\"video_id\", \"hearing_id\", \"bill_id\", \"speaker_start_time\"]) .groupby([\"bill_id\", \"hearing_id\", \"video_id\"]).tail(1)\n",
    "bill_start_end_times = pd.merge(bill_start_times[[\"bill_id\", \"hearing_id\", \"video_id\", \"speaker_start_time\"]],\n",
    "                                bill_end_times[[\"bill_id\", \"hearing_id\", \"video_id\", \"speaker_end_time\"]],\n",
    "                                on=[\"bill_id\", \"hearing_id\", \"video_id\"])"
   ]
  },
  {
   "cell_type": "code",
   "execution_count": 11,
   "metadata": {
    "collapsed": false
   },
   "outputs": [
    {
     "data": {
      "text/html": [
       "<div>\n",
       "<table border=\"1\" class=\"dataframe\">\n",
       "  <thead>\n",
       "    <tr style=\"text-align: right;\">\n",
       "      <th></th>\n",
       "      <th>bill_id</th>\n",
       "      <th>hearing_id</th>\n",
       "      <th>video_id</th>\n",
       "      <th>speaker_start_time</th>\n",
       "      <th>speaker_end_time</th>\n",
       "    </tr>\n",
       "  </thead>\n",
       "  <tbody>\n",
       "    <tr>\n",
       "      <th>0</th>\n",
       "      <td>CA_201520160SB114</td>\n",
       "      <td>542</td>\n",
       "      <td>4161</td>\n",
       "      <td>91</td>\n",
       "      <td>430</td>\n",
       "    </tr>\n",
       "    <tr>\n",
       "      <th>1</th>\n",
       "      <td>CA_201520160SB313</td>\n",
       "      <td>542</td>\n",
       "      <td>4161</td>\n",
       "      <td>1516</td>\n",
       "      <td>1800</td>\n",
       "    </tr>\n",
       "    <tr>\n",
       "      <th>2</th>\n",
       "      <td>CA_201520160SB322</td>\n",
       "      <td>542</td>\n",
       "      <td>4161</td>\n",
       "      <td>991</td>\n",
       "      <td>1234</td>\n",
       "    </tr>\n",
       "    <tr>\n",
       "      <th>3</th>\n",
       "      <td>CA_201520160SB376</td>\n",
       "      <td>542</td>\n",
       "      <td>4161</td>\n",
       "      <td>1</td>\n",
       "      <td>91</td>\n",
       "    </tr>\n",
       "    <tr>\n",
       "      <th>4</th>\n",
       "      <td>CA_201520160SB660</td>\n",
       "      <td>542</td>\n",
       "      <td>4161</td>\n",
       "      <td>446</td>\n",
       "      <td>991</td>\n",
       "    </tr>\n",
       "  </tbody>\n",
       "</table>\n",
       "</div>"
      ],
      "text/plain": [
       "             bill_id  hearing_id  video_id  speaker_start_time  \\\n",
       "0  CA_201520160SB114         542      4161                  91   \n",
       "1  CA_201520160SB313         542      4161                1516   \n",
       "2  CA_201520160SB322         542      4161                 991   \n",
       "3  CA_201520160SB376         542      4161                   1   \n",
       "4  CA_201520160SB660         542      4161                 446   \n",
       "\n",
       "   speaker_end_time  \n",
       "0               430  \n",
       "1              1800  \n",
       "2              1234  \n",
       "3                91  \n",
       "4               991  "
      ]
     },
     "execution_count": 11,
     "metadata": {},
     "output_type": "execute_result"
    }
   ],
   "source": [
    "bill_start_end_times.to_csv(bill_start_end_times_filename, sep=\"~\", index=False)\n",
    "bill_start_end_times.head()"
   ]
  },
  {
   "cell_type": "code",
   "execution_count": null,
   "metadata": {
    "collapsed": true
   },
   "outputs": [],
   "source": []
  }
 ],
 "metadata": {
  "kernelspec": {
   "display_name": "Python [conda env:keras]",
   "language": "python",
   "name": "conda-env-keras-py"
  },
  "language_info": {
   "codemirror_mode": {
    "name": "ipython",
    "version": 3
   },
   "file_extension": ".py",
   "mimetype": "text/x-python",
   "name": "python",
   "nbconvert_exporter": "python",
   "pygments_lexer": "ipython3",
   "version": "3.4.5"
  }
 },
 "nbformat": 4,
 "nbformat_minor": 2
}
